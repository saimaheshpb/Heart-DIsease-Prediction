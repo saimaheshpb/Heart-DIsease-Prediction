{
 "cells": [
  {
   "cell_type": "markdown",
   "metadata": {},
   "source": [
    "# Heart Disease Prediction using Machine Learning Approach\n",
    "\n",
    "\n",
    "Heart Disease (including Coronary Heart Disease, Hypertension, and Stroke) remains the No. 1\n",
    "cause of death in the US.The Heart Disease and Stroke Statistics—2019 Update from the **American Heart Association** indicates that:\n",
    "* 116.4 million, or 46% of US adults are estimated to have hypertension. These are findings related to the new 2017 Hypertension Clinical Practice Guidelines.\n",
    "* On average, someone dies of CVD every 38 seconds. About 2,303 deaths from CVD each day, based on 2016 data.\n",
    "* On average, someone dies of a stroke every 3.70 minutes. About 389.4 deaths from stroke each day, based on 2016 data.\n",
    "\n",
    "In this notebook i will try to unleash useful insights using this heart disease datasets and by building stacked ensemble model by combining the power of best performing machine learning algorithms.\n",
    "\n",
    "This notebook is divided into 13 major steps which are as follows:\n",
    "\n",
    "1. [Data description](#data-desc)\n",
    "2. [Importing Libraries & setting up environment](#imp-lib)\n",
    "3. [Loading dataset](#data-load)\n",
    "4. [Data Cleaning & Preprocessing](#data-prep)\n",
    "5. [Exploratory Data Analysis](#data-eda)\n",
    "6. [OUtlier Detection & Removal](#data-out)\n",
    "7. [Training & Test Split](#data-train)\n",
    "8. [Cross Validation](#cross-val)\n",
    "9. [Model Building](#data-model)\n",
    "10. [Model evaluation & comparison](#model-eval)<br>\n",
    "11. [Feature Selection](#model-eval)<br>\n",
    "12. [Model Evaluation](#model-inter)\n",
    "13. [Conclusion](#data-conc)"
   ]
  },
  {
   "cell_type": "markdown",
   "metadata": {},
   "source": [
    "## 1. Dataset description<a id='data-desc'></a>\n",
    "\n",
    "This dataset consists of 11 features and a target variable. It has 6 nominal variables and 5 numeric variables. The detailed description of all the features are as follows:\n",
    "\n",
    "**1. Age:** Patients Age in years (Numeric)<br>\n",
    "**2. Sex:** Gender of patient (Male - 1, Female - 0) (Nominal)<br>\n",
    "**3. Chest Pain Type:** Type of chest pain experienced by patient categorized into 1 typical, 2 typical angina, 3 non-        anginal pain, 4 asymptomatic (Nominal)<br>\n",
    "**4. resting bp s:** Level of blood pressure at resting mode in mm/HG (Numerical)<br>\n",
    "**5. cholestrol:** Serum cholestrol in mg/dl (Numeric)<br>\n",
    "**6. fasting blood sugar:** Blood sugar levels on fasting > 120 mg/dl represents as 1 in case of true and 0 as false (Nominal)<br>\n",
    "**7. resting ecg:** Result of electrocardiogram while at rest are represented in 3 distinct values 0 : Normal 1: Abnormality in ST-T wave 2: Left ventricular hypertrophy (Nominal)<br>\n",
    "**8. max heart rate:** Maximum heart rate achieved (Numeric)<br>\n",
    "**9. exercise angina:** Angina induced by exercise 0 depicting NO 1 depicting Yes (Nominal)<br>\n",
    "**10. oldpeak:** Exercise induced ST-depression in comparison with the state of rest (Numeric)<br>\n",
    "**11. ST slope:** ST segment measured in terms of slope during peak exercise 0: Normal 1: Upsloping 2: Flat 3: Downsloping (Nominal)<br>\n",
    "\n",
    "#### Target variable\n",
    "**12. target:** It is the target variable which we have to predict 1 means patient is suffering from heart risk and 0 means patient is normal.\n"
   ]
  },
  {
   "cell_type": "markdown",
   "metadata": {},
   "source": [
    "## 2. Importing Libraries<a id='imp-lib'></a>"
   ]
  },
  {
   "cell_type": "code",
   "execution_count": 1,
   "metadata": {
    "_cell_guid": "b1076dfc-b9ad-4769-8c92-a6c4dae69d19",
    "_uuid": "8f2839f25d086af736a60e9eeb907d3b93b6e0e5"
   },
   "outputs": [],
   "source": [
    "import warnings\n",
    "warnings.filterwarnings('ignore')\n",
    "\n",
    "# data wrangling & pre-processing\n",
    "import pandas as pd\n",
    "import numpy as np\n",
    "\n",
    "# data visualization\n",
    "import matplotlib.pyplot as plt\n",
    "%matplotlib inline\n",
    "import seaborn as sns\n",
    "\n",
    "from sklearn.model_selection import train_test_split\n",
    "\n",
    "#model validation\n",
    "from sklearn.metrics import log_loss,roc_auc_score,precision_score,f1_score,recall_score,roc_curve,auc\n",
    "from sklearn.metrics import classification_report, confusion_matrix,accuracy_score,fbeta_score,matthews_corrcoef\n",
    "from sklearn import metrics\n",
    "\n",
    "# cross validation\n",
    "from sklearn.model_selection import StratifiedKFold\n",
    "\n",
    "# machine learning algorithms\n",
    "from sklearn.linear_model import LogisticRegression\n",
    "from sklearn.ensemble import RandomForestClassifier,VotingClassifier,AdaBoostClassifier,GradientBoostingClassifier,RandomForestClassifier,ExtraTreesClassifier\n",
    "from sklearn.neural_network import MLPClassifier\n",
    "from sklearn.tree import DecisionTreeClassifier\n",
    "from sklearn.linear_model import SGDClassifier\n",
    "from sklearn.svm import SVC \n",
    "import xgboost as xgb\n",
    "\n",
    "from scipy import stats\n"
   ]
  },
  {
   "cell_type": "markdown",
   "metadata": {},
   "source": [
    "## 3. Loading Dataset<a id='data-load'></a>"
   ]
  },
  {
   "cell_type": "code",
   "execution_count": 2,
   "metadata": {},
   "outputs": [],
   "source": [
    "dt = pd.read_csv('heart_statlog_cleveland_hungary_final.csv')"
   ]
  },
  {
   "cell_type": "markdown",
   "metadata": {},
   "source": [
    "Lets see some of the sample entries of dataset"
   ]
  },
  {
   "cell_type": "code",
   "execution_count": 3,
   "metadata": {
    "_cell_guid": "79c7e3d0-c299-4dcb-8224-4455121ee9b0",
    "_uuid": "d629ff2d2480ee46fbb7e2d37f6b5fab8052498a"
   },
   "outputs": [
    {
     "data": {
      "text/html": [
       "<div>\n",
       "<style scoped>\n",
       "    .dataframe tbody tr th:only-of-type {\n",
       "        vertical-align: middle;\n",
       "    }\n",
       "\n",
       "    .dataframe tbody tr th {\n",
       "        vertical-align: top;\n",
       "    }\n",
       "\n",
       "    .dataframe thead th {\n",
       "        text-align: right;\n",
       "    }\n",
       "</style>\n",
       "<table border=\"1\" class=\"dataframe\">\n",
       "  <thead>\n",
       "    <tr style=\"text-align: right;\">\n",
       "      <th></th>\n",
       "      <th>age</th>\n",
       "      <th>sex</th>\n",
       "      <th>chest pain type</th>\n",
       "      <th>resting bp s</th>\n",
       "      <th>cholesterol</th>\n",
       "      <th>fasting blood sugar</th>\n",
       "      <th>resting ecg</th>\n",
       "      <th>max heart rate</th>\n",
       "      <th>exercise angina</th>\n",
       "      <th>oldpeak</th>\n",
       "      <th>ST slope</th>\n",
       "      <th>target</th>\n",
       "    </tr>\n",
       "  </thead>\n",
       "  <tbody>\n",
       "    <tr>\n",
       "      <th>0</th>\n",
       "      <td>40</td>\n",
       "      <td>1</td>\n",
       "      <td>2</td>\n",
       "      <td>140</td>\n",
       "      <td>289</td>\n",
       "      <td>0</td>\n",
       "      <td>0</td>\n",
       "      <td>172</td>\n",
       "      <td>0</td>\n",
       "      <td>0.0</td>\n",
       "      <td>1</td>\n",
       "      <td>0</td>\n",
       "    </tr>\n",
       "    <tr>\n",
       "      <th>1</th>\n",
       "      <td>49</td>\n",
       "      <td>0</td>\n",
       "      <td>3</td>\n",
       "      <td>160</td>\n",
       "      <td>180</td>\n",
       "      <td>0</td>\n",
       "      <td>0</td>\n",
       "      <td>156</td>\n",
       "      <td>0</td>\n",
       "      <td>1.0</td>\n",
       "      <td>2</td>\n",
       "      <td>1</td>\n",
       "    </tr>\n",
       "    <tr>\n",
       "      <th>2</th>\n",
       "      <td>37</td>\n",
       "      <td>1</td>\n",
       "      <td>2</td>\n",
       "      <td>130</td>\n",
       "      <td>283</td>\n",
       "      <td>0</td>\n",
       "      <td>1</td>\n",
       "      <td>98</td>\n",
       "      <td>0</td>\n",
       "      <td>0.0</td>\n",
       "      <td>1</td>\n",
       "      <td>0</td>\n",
       "    </tr>\n",
       "    <tr>\n",
       "      <th>3</th>\n",
       "      <td>48</td>\n",
       "      <td>0</td>\n",
       "      <td>4</td>\n",
       "      <td>138</td>\n",
       "      <td>214</td>\n",
       "      <td>0</td>\n",
       "      <td>0</td>\n",
       "      <td>108</td>\n",
       "      <td>1</td>\n",
       "      <td>1.5</td>\n",
       "      <td>2</td>\n",
       "      <td>1</td>\n",
       "    </tr>\n",
       "    <tr>\n",
       "      <th>4</th>\n",
       "      <td>54</td>\n",
       "      <td>1</td>\n",
       "      <td>3</td>\n",
       "      <td>150</td>\n",
       "      <td>195</td>\n",
       "      <td>0</td>\n",
       "      <td>0</td>\n",
       "      <td>122</td>\n",
       "      <td>0</td>\n",
       "      <td>0.0</td>\n",
       "      <td>1</td>\n",
       "      <td>0</td>\n",
       "    </tr>\n",
       "  </tbody>\n",
       "</table>\n",
       "</div>"
      ],
      "text/plain": [
       "   age  sex  chest pain type  resting bp s  cholesterol  fasting blood sugar  \\\n",
       "0   40    1                2           140          289                    0   \n",
       "1   49    0                3           160          180                    0   \n",
       "2   37    1                2           130          283                    0   \n",
       "3   48    0                4           138          214                    0   \n",
       "4   54    1                3           150          195                    0   \n",
       "\n",
       "   resting ecg  max heart rate  exercise angina  oldpeak  ST slope  target  \n",
       "0            0             172                0      0.0         1       0  \n",
       "1            0             156                0      1.0         2       1  \n",
       "2            1              98                0      0.0         1       0  \n",
       "3            0             108                1      1.5         2       1  \n",
       "4            0             122                0      0.0         1       0  "
      ]
     },
     "execution_count": 3,
     "metadata": {},
     "output_type": "execute_result"
    }
   ],
   "source": [
    "dt.head()"
   ]
  },
  {
   "cell_type": "markdown",
   "metadata": {},
   "source": [
    "As we can see from above dataset entries some of the features should be nominal and to be encoded as their category type. In the next step we will be encoding features to their respective category as per the dataset description."
   ]
  },
  {
   "cell_type": "markdown",
   "metadata": {},
   "source": [
    "## 4. Data Cleaning & Preprocessing <a id='data-prep'></a>\n",
    " In this step we will first change the name of columns as some of the columns have weird naming pattern and then we will encode the features into categorical variables"
   ]
  },
  {
   "cell_type": "code",
   "execution_count": 4,
   "metadata": {},
   "outputs": [],
   "source": [
    "# renaming features to proper name\n",
    "dt.columns = ['age', 'sex', 'chest_pain_type', 'resting_blood_pressure', 'cholesterol', 'fasting_blood_sugar', 'rest_ecg', 'max_heart_rate_achieved',\n",
    "       'exercise_induced_angina', 'st_depression', 'st_slope','target']"
   ]
  },
  {
   "cell_type": "code",
   "execution_count": 5,
   "metadata": {},
   "outputs": [],
   "source": [
    "# converting features to categorical features \n",
    "\n",
    "dt['chest_pain_type'][dt['chest_pain_type'] == 1] = 'typical angina'\n",
    "dt['chest_pain_type'][dt['chest_pain_type'] == 2] = 'atypical angina'\n",
    "dt['chest_pain_type'][dt['chest_pain_type'] == 3] = 'non-anginal pain'\n",
    "dt['chest_pain_type'][dt['chest_pain_type'] == 4] = 'asymptomatic'\n",
    "\n",
    "\n",
    "\n",
    "dt['rest_ecg'][dt['rest_ecg'] == 0] = 'normal'\n",
    "dt['rest_ecg'][dt['rest_ecg'] == 1] = 'ST-T wave abnormality'\n",
    "dt['rest_ecg'][dt['rest_ecg'] == 2] = 'left ventricular hypertrophy'\n",
    "\n",
    "\n",
    "\n",
    "dt['st_slope'][dt['st_slope'] == 1] = 'upsloping'\n",
    "dt['st_slope'][dt['st_slope'] == 2] = 'flat'\n",
    "dt['st_slope'][dt['st_slope'] == 3] = 'downsloping'\n",
    "\n",
    "dt[\"sex\"] = dt.sex.apply(lambda  x:'male' if x==1 else 'female')"
   ]
  },
  {
   "cell_type": "code",
   "execution_count": 6,
   "metadata": {},
   "outputs": [
    {
     "data": {
      "text/plain": [
       "asymptomatic        625\n",
       "non-anginal pain    283\n",
       "atypical angina     216\n",
       "typical angina       66\n",
       "Name: chest_pain_type, dtype: int64"
      ]
     },
     "execution_count": 6,
     "metadata": {},
     "output_type": "execute_result"
    }
   ],
   "source": [
    "dt['chest_pain_type'].value_counts()"
   ]
  },
  {
   "cell_type": "code",
   "execution_count": 7,
   "metadata": {},
   "outputs": [
    {
     "data": {
      "text/plain": [
       "normal                          684\n",
       "left ventricular hypertrophy    325\n",
       "ST-T wave abnormality           181\n",
       "Name: rest_ecg, dtype: int64"
      ]
     },
     "execution_count": 7,
     "metadata": {},
     "output_type": "execute_result"
    }
   ],
   "source": [
    "dt['rest_ecg'].value_counts()"
   ]
  },
  {
   "cell_type": "code",
   "execution_count": 8,
   "metadata": {},
   "outputs": [
    {
     "data": {
      "text/plain": [
       "flat           582\n",
       "upsloping      526\n",
       "downsloping     81\n",
       "0                1\n",
       "Name: st_slope, dtype: int64"
      ]
     },
     "execution_count": 8,
     "metadata": {},
     "output_type": "execute_result"
    }
   ],
   "source": [
    "dt['st_slope'].value_counts()"
   ]
  },
  {
   "cell_type": "code",
   "execution_count": 9,
   "metadata": {},
   "outputs": [
    {
     "data": {
      "text/plain": [
       "flat           582\n",
       "upsloping      526\n",
       "downsloping     81\n",
       "Name: st_slope, dtype: int64"
      ]
     },
     "execution_count": 9,
     "metadata": {},
     "output_type": "execute_result"
    }
   ],
   "source": [
    "#dropping row with st_slope =0\n",
    "dt.drop(dt[dt.st_slope ==0].index, inplace=True)\n",
    "#checking distribution\n",
    "dt['st_slope'].value_counts()"
   ]
  },
  {
   "cell_type": "code",
   "execution_count": 10,
   "metadata": {},
   "outputs": [
    {
     "data": {
      "text/html": [
       "<div>\n",
       "<style scoped>\n",
       "    .dataframe tbody tr th:only-of-type {\n",
       "        vertical-align: middle;\n",
       "    }\n",
       "\n",
       "    .dataframe tbody tr th {\n",
       "        vertical-align: top;\n",
       "    }\n",
       "\n",
       "    .dataframe thead th {\n",
       "        text-align: right;\n",
       "    }\n",
       "</style>\n",
       "<table border=\"1\" class=\"dataframe\">\n",
       "  <thead>\n",
       "    <tr style=\"text-align: right;\">\n",
       "      <th></th>\n",
       "      <th>age</th>\n",
       "      <th>sex</th>\n",
       "      <th>chest_pain_type</th>\n",
       "      <th>resting_blood_pressure</th>\n",
       "      <th>cholesterol</th>\n",
       "      <th>fasting_blood_sugar</th>\n",
       "      <th>rest_ecg</th>\n",
       "      <th>max_heart_rate_achieved</th>\n",
       "      <th>exercise_induced_angina</th>\n",
       "      <th>st_depression</th>\n",
       "      <th>st_slope</th>\n",
       "      <th>target</th>\n",
       "    </tr>\n",
       "  </thead>\n",
       "  <tbody>\n",
       "    <tr>\n",
       "      <th>0</th>\n",
       "      <td>40</td>\n",
       "      <td>male</td>\n",
       "      <td>atypical angina</td>\n",
       "      <td>140</td>\n",
       "      <td>289</td>\n",
       "      <td>0</td>\n",
       "      <td>normal</td>\n",
       "      <td>172</td>\n",
       "      <td>0</td>\n",
       "      <td>0.0</td>\n",
       "      <td>upsloping</td>\n",
       "      <td>0</td>\n",
       "    </tr>\n",
       "    <tr>\n",
       "      <th>1</th>\n",
       "      <td>49</td>\n",
       "      <td>female</td>\n",
       "      <td>non-anginal pain</td>\n",
       "      <td>160</td>\n",
       "      <td>180</td>\n",
       "      <td>0</td>\n",
       "      <td>normal</td>\n",
       "      <td>156</td>\n",
       "      <td>0</td>\n",
       "      <td>1.0</td>\n",
       "      <td>flat</td>\n",
       "      <td>1</td>\n",
       "    </tr>\n",
       "    <tr>\n",
       "      <th>2</th>\n",
       "      <td>37</td>\n",
       "      <td>male</td>\n",
       "      <td>atypical angina</td>\n",
       "      <td>130</td>\n",
       "      <td>283</td>\n",
       "      <td>0</td>\n",
       "      <td>ST-T wave abnormality</td>\n",
       "      <td>98</td>\n",
       "      <td>0</td>\n",
       "      <td>0.0</td>\n",
       "      <td>upsloping</td>\n",
       "      <td>0</td>\n",
       "    </tr>\n",
       "    <tr>\n",
       "      <th>3</th>\n",
       "      <td>48</td>\n",
       "      <td>female</td>\n",
       "      <td>asymptomatic</td>\n",
       "      <td>138</td>\n",
       "      <td>214</td>\n",
       "      <td>0</td>\n",
       "      <td>normal</td>\n",
       "      <td>108</td>\n",
       "      <td>1</td>\n",
       "      <td>1.5</td>\n",
       "      <td>flat</td>\n",
       "      <td>1</td>\n",
       "    </tr>\n",
       "    <tr>\n",
       "      <th>4</th>\n",
       "      <td>54</td>\n",
       "      <td>male</td>\n",
       "      <td>non-anginal pain</td>\n",
       "      <td>150</td>\n",
       "      <td>195</td>\n",
       "      <td>0</td>\n",
       "      <td>normal</td>\n",
       "      <td>122</td>\n",
       "      <td>0</td>\n",
       "      <td>0.0</td>\n",
       "      <td>upsloping</td>\n",
       "      <td>0</td>\n",
       "    </tr>\n",
       "  </tbody>\n",
       "</table>\n",
       "</div>"
      ],
      "text/plain": [
       "   age     sex   chest_pain_type  resting_blood_pressure  cholesterol  \\\n",
       "0   40    male   atypical angina                     140          289   \n",
       "1   49  female  non-anginal pain                     160          180   \n",
       "2   37    male   atypical angina                     130          283   \n",
       "3   48  female      asymptomatic                     138          214   \n",
       "4   54    male  non-anginal pain                     150          195   \n",
       "\n",
       "   fasting_blood_sugar               rest_ecg  max_heart_rate_achieved  \\\n",
       "0                    0                 normal                      172   \n",
       "1                    0                 normal                      156   \n",
       "2                    0  ST-T wave abnormality                       98   \n",
       "3                    0                 normal                      108   \n",
       "4                    0                 normal                      122   \n",
       "\n",
       "   exercise_induced_angina  st_depression   st_slope  target  \n",
       "0                        0            0.0  upsloping       0  \n",
       "1                        0            1.0       flat       1  \n",
       "2                        0            0.0  upsloping       0  \n",
       "3                        1            1.5       flat       1  \n",
       "4                        0            0.0  upsloping       0  "
      ]
     },
     "execution_count": 10,
     "metadata": {},
     "output_type": "execute_result"
    }
   ],
   "source": [
    "# checking the top 5 entries of dataset after feature encoding\n",
    "dt.head()"
   ]
  },
  {
   "cell_type": "markdown",
   "metadata": {},
   "source": [
    "As we can see features are encoded sucessfully to their respective categories. Next we will be checking if there is any missing entry or not ?"
   ]
  },
  {
   "cell_type": "code",
   "execution_count": 11,
   "metadata": {},
   "outputs": [
    {
     "data": {
      "text/plain": [
       "age                        0\n",
       "sex                        0\n",
       "chest_pain_type            0\n",
       "resting_blood_pressure     0\n",
       "cholesterol                0\n",
       "fasting_blood_sugar        0\n",
       "rest_ecg                   0\n",
       "max_heart_rate_achieved    0\n",
       "exercise_induced_angina    0\n",
       "st_depression              0\n",
       "st_slope                   0\n",
       "target                     0\n",
       "dtype: int64"
      ]
     },
     "execution_count": 11,
     "metadata": {},
     "output_type": "execute_result"
    }
   ],
   "source": [
    "## Checking missing entries in the dataset columnwise\n",
    "dt.isna().sum()"
   ]
  },
  {
   "cell_type": "markdown",
   "metadata": {},
   "source": [
    "So, there are no missing entries in the dataset thats great. Next we will move towards exploring the dataset by performing detailed EDA"
   ]
  },
  {
   "cell_type": "markdown",
   "metadata": {},
   "source": [
    "## 5. Exploratory Data Analysis (EDA) <a id='data-eda'></a>"
   ]
  },
  {
   "cell_type": "code",
   "execution_count": 12,
   "metadata": {},
   "outputs": [
    {
     "data": {
      "text/plain": [
       "(1189, 12)"
      ]
     },
     "execution_count": 12,
     "metadata": {},
     "output_type": "execute_result"
    }
   ],
   "source": [
    "# first checking the shape of the dataset\n",
    "dt.shape"
   ]
  },
  {
   "cell_type": "markdown",
   "metadata": {},
   "source": [
    "So, there are total 1189 records and 11 features with 1 target variable. Lets check the summary of numerical and categorical features."
   ]
  },
  {
   "cell_type": "code",
   "execution_count": 13,
   "metadata": {},
   "outputs": [
    {
     "data": {
      "text/html": [
       "<div>\n",
       "<style scoped>\n",
       "    .dataframe tbody tr th:only-of-type {\n",
       "        vertical-align: middle;\n",
       "    }\n",
       "\n",
       "    .dataframe tbody tr th {\n",
       "        vertical-align: top;\n",
       "    }\n",
       "\n",
       "    .dataframe thead th {\n",
       "        text-align: right;\n",
       "    }\n",
       "</style>\n",
       "<table border=\"1\" class=\"dataframe\">\n",
       "  <thead>\n",
       "    <tr style=\"text-align: right;\">\n",
       "      <th></th>\n",
       "      <th>age</th>\n",
       "      <th>resting_blood_pressure</th>\n",
       "      <th>cholesterol</th>\n",
       "      <th>fasting_blood_sugar</th>\n",
       "      <th>max_heart_rate_achieved</th>\n",
       "      <th>exercise_induced_angina</th>\n",
       "      <th>st_depression</th>\n",
       "      <th>target</th>\n",
       "    </tr>\n",
       "  </thead>\n",
       "  <tbody>\n",
       "    <tr>\n",
       "      <th>count</th>\n",
       "      <td>1189.000000</td>\n",
       "      <td>1189.000000</td>\n",
       "      <td>1189.000000</td>\n",
       "      <td>1189.000000</td>\n",
       "      <td>1189.000000</td>\n",
       "      <td>1189.000000</td>\n",
       "      <td>1189.000000</td>\n",
       "      <td>1189.000000</td>\n",
       "    </tr>\n",
       "    <tr>\n",
       "      <th>mean</th>\n",
       "      <td>53.708158</td>\n",
       "      <td>132.138772</td>\n",
       "      <td>210.376787</td>\n",
       "      <td>0.212784</td>\n",
       "      <td>139.739277</td>\n",
       "      <td>0.387721</td>\n",
       "      <td>0.923549</td>\n",
       "      <td>0.528175</td>\n",
       "    </tr>\n",
       "    <tr>\n",
       "      <th>std</th>\n",
       "      <td>9.352961</td>\n",
       "      <td>18.369251</td>\n",
       "      <td>101.462185</td>\n",
       "      <td>0.409448</td>\n",
       "      <td>25.527386</td>\n",
       "      <td>0.487435</td>\n",
       "      <td>1.086464</td>\n",
       "      <td>0.499416</td>\n",
       "    </tr>\n",
       "    <tr>\n",
       "      <th>min</th>\n",
       "      <td>28.000000</td>\n",
       "      <td>0.000000</td>\n",
       "      <td>0.000000</td>\n",
       "      <td>0.000000</td>\n",
       "      <td>60.000000</td>\n",
       "      <td>0.000000</td>\n",
       "      <td>-2.600000</td>\n",
       "      <td>0.000000</td>\n",
       "    </tr>\n",
       "    <tr>\n",
       "      <th>25%</th>\n",
       "      <td>47.000000</td>\n",
       "      <td>120.000000</td>\n",
       "      <td>188.000000</td>\n",
       "      <td>0.000000</td>\n",
       "      <td>121.000000</td>\n",
       "      <td>0.000000</td>\n",
       "      <td>0.000000</td>\n",
       "      <td>0.000000</td>\n",
       "    </tr>\n",
       "    <tr>\n",
       "      <th>50%</th>\n",
       "      <td>54.000000</td>\n",
       "      <td>130.000000</td>\n",
       "      <td>229.000000</td>\n",
       "      <td>0.000000</td>\n",
       "      <td>141.000000</td>\n",
       "      <td>0.000000</td>\n",
       "      <td>0.600000</td>\n",
       "      <td>1.000000</td>\n",
       "    </tr>\n",
       "    <tr>\n",
       "      <th>75%</th>\n",
       "      <td>60.000000</td>\n",
       "      <td>140.000000</td>\n",
       "      <td>270.000000</td>\n",
       "      <td>0.000000</td>\n",
       "      <td>160.000000</td>\n",
       "      <td>1.000000</td>\n",
       "      <td>1.600000</td>\n",
       "      <td>1.000000</td>\n",
       "    </tr>\n",
       "    <tr>\n",
       "      <th>max</th>\n",
       "      <td>77.000000</td>\n",
       "      <td>200.000000</td>\n",
       "      <td>603.000000</td>\n",
       "      <td>1.000000</td>\n",
       "      <td>202.000000</td>\n",
       "      <td>1.000000</td>\n",
       "      <td>6.200000</td>\n",
       "      <td>1.000000</td>\n",
       "    </tr>\n",
       "  </tbody>\n",
       "</table>\n",
       "</div>"
      ],
      "text/plain": [
       "               age  resting_blood_pressure  cholesterol  fasting_blood_sugar  \\\n",
       "count  1189.000000             1189.000000  1189.000000          1189.000000   \n",
       "mean     53.708158              132.138772   210.376787             0.212784   \n",
       "std       9.352961               18.369251   101.462185             0.409448   \n",
       "min      28.000000                0.000000     0.000000             0.000000   \n",
       "25%      47.000000              120.000000   188.000000             0.000000   \n",
       "50%      54.000000              130.000000   229.000000             0.000000   \n",
       "75%      60.000000              140.000000   270.000000             0.000000   \n",
       "max      77.000000              200.000000   603.000000             1.000000   \n",
       "\n",
       "       max_heart_rate_achieved  exercise_induced_angina  st_depression  \\\n",
       "count              1189.000000              1189.000000    1189.000000   \n",
       "mean                139.739277                 0.387721       0.923549   \n",
       "std                  25.527386                 0.487435       1.086464   \n",
       "min                  60.000000                 0.000000      -2.600000   \n",
       "25%                 121.000000                 0.000000       0.000000   \n",
       "50%                 141.000000                 0.000000       0.600000   \n",
       "75%                 160.000000                 1.000000       1.600000   \n",
       "max                 202.000000                 1.000000       6.200000   \n",
       "\n",
       "            target  \n",
       "count  1189.000000  \n",
       "mean      0.528175  \n",
       "std       0.499416  \n",
       "min       0.000000  \n",
       "25%       0.000000  \n",
       "50%       1.000000  \n",
       "75%       1.000000  \n",
       "max       1.000000  "
      ]
     },
     "execution_count": 13,
     "metadata": {},
     "output_type": "execute_result"
    }
   ],
   "source": [
    "# summary statistics of numerical columns\n",
    "dt.describe(include =[np.number])"
   ]
  },
  {
   "cell_type": "markdown",
   "metadata": {},
   "source": [
    "As we can see from above description resting_blood_pressure and cholestrol have some outliers as they have minimum value of 0 whereas cholestrol has outlier on upper side also having maximum value of 603."
   ]
  },
  {
   "cell_type": "code",
   "execution_count": 14,
   "metadata": {},
   "outputs": [
    {
     "data": {
      "text/html": [
       "<div>\n",
       "<style scoped>\n",
       "    .dataframe tbody tr th:only-of-type {\n",
       "        vertical-align: middle;\n",
       "    }\n",
       "\n",
       "    .dataframe tbody tr th {\n",
       "        vertical-align: top;\n",
       "    }\n",
       "\n",
       "    .dataframe thead th {\n",
       "        text-align: right;\n",
       "    }\n",
       "</style>\n",
       "<table border=\"1\" class=\"dataframe\">\n",
       "  <thead>\n",
       "    <tr style=\"text-align: right;\">\n",
       "      <th></th>\n",
       "      <th>sex</th>\n",
       "      <th>chest_pain_type</th>\n",
       "      <th>rest_ecg</th>\n",
       "      <th>st_slope</th>\n",
       "    </tr>\n",
       "  </thead>\n",
       "  <tbody>\n",
       "    <tr>\n",
       "      <th>count</th>\n",
       "      <td>1189</td>\n",
       "      <td>1189</td>\n",
       "      <td>1189</td>\n",
       "      <td>1189</td>\n",
       "    </tr>\n",
       "    <tr>\n",
       "      <th>unique</th>\n",
       "      <td>2</td>\n",
       "      <td>4</td>\n",
       "      <td>3</td>\n",
       "      <td>3</td>\n",
       "    </tr>\n",
       "    <tr>\n",
       "      <th>top</th>\n",
       "      <td>male</td>\n",
       "      <td>asymptomatic</td>\n",
       "      <td>normal</td>\n",
       "      <td>flat</td>\n",
       "    </tr>\n",
       "    <tr>\n",
       "      <th>freq</th>\n",
       "      <td>908</td>\n",
       "      <td>625</td>\n",
       "      <td>683</td>\n",
       "      <td>582</td>\n",
       "    </tr>\n",
       "  </tbody>\n",
       "</table>\n",
       "</div>"
      ],
      "text/plain": [
       "         sex chest_pain_type rest_ecg st_slope\n",
       "count   1189            1189     1189     1189\n",
       "unique     2               4        3        3\n",
       "top     male    asymptomatic   normal     flat\n",
       "freq     908             625      683      582"
      ]
     },
     "execution_count": 14,
     "metadata": {},
     "output_type": "execute_result"
    }
   ],
   "source": [
    "# summary statistics of categorical columns\n",
    "dt.describe(include =[np.object])"
   ]
  },
  {
   "cell_type": "markdown",
   "metadata": {},
   "source": [
    "### Distribution of Heart disease (target variable)"
   ]
  },
  {
   "cell_type": "code",
   "execution_count": 15,
   "metadata": {},
   "outputs": [
    {
     "data": {
      "image/png": "[encoded data removed]",
      "text/plain": [
       "<Figure size 1008x432 with 2 Axes>"
      ]
     },
     "metadata": {
      "needs_background": "light"
     },
     "output_type": "display_data"
    }
   ],
   "source": [
    "# Plotting attrition of employees\n",
    "fig, (ax1, ax2) = plt.subplots(nrows=1, ncols=2, sharey=False, figsize=(14,6))\n",
    "\n",
    "ax1 = dt['target'].value_counts().plot.pie( x=\"Heart disease\" ,y ='no.of patients', \n",
    "                   autopct = \"%1.0f%%\",labels=[\"Heart Disease\",\"Normal\"], startangle = 60,ax=ax1);\n",
    "ax1.set(title = 'Percentage of Heart disease patients in Dataset')\n",
    "\n",
    "ax2 = dt[\"target\"].value_counts().plot(kind=\"barh\" ,ax =ax2)\n",
    "for i,j in enumerate(dt[\"target\"].value_counts().values):\n",
    "    ax2.text(.5,i,j,fontsize=12)\n",
    "ax2.set(title = 'No. of Heart disease patients in Dataset')\n",
    "plt.show()"
   ]
  },
  {
   "cell_type": "markdown",
   "metadata": {},
   "source": [
    "The dataset is balanced having 629 heart disease patients and 561 normal patients"
   ]
  },
  {
   "cell_type": "markdown",
   "metadata": {},
   "source": [
    "### Checking Gender & Agewise Distribution"
   ]
  },
  {
   "cell_type": "code",
   "execution_count": 16,
   "metadata": {},
   "outputs": [
    {
     "data": {
      "image/png": "[encoded data removed]",
      "text/plain": [
       "<Figure size 1296x864 with 2 Axes>"
      ]
     },
     "metadata": {
      "needs_background": "light"
     },
     "output_type": "display_data"
    }
   ],
   "source": [
    "plt.figure(figsize=(18,12))\n",
    "plt.subplot(221)\n",
    "dt[\"sex\"].value_counts().plot.pie(autopct = \"%1.0f%%\",colors = sns.color_palette(\"prism\",5),startangle = 60,labels=[\"Male\",\"Female\"],\n",
    "wedgeprops={\"linewidth\":2,\"edgecolor\":\"k\"},explode=[.1,.1],shadow =True)\n",
    "plt.title(\"Distribution of Gender\")\n",
    "plt.subplot(222)\n",
    "ax= sns.distplot(dt['age'], rug=True)\n",
    "plt.title(\"Age wise distribution\")\n",
    "plt.show()"
   ]
  },
  {
   "cell_type": "markdown",
   "metadata": {},
   "source": [
    "As we can see from above plot, in this dataset males percentage is way too higher than females where as average age of patients is around 55."
   ]
  },
  {
   "cell_type": "code",
   "execution_count": 17,
   "metadata": {},
   "outputs": [
    {
     "data": {
      "image/png": "[encoded data removed]",
      "text/plain": [
       "<Figure size 1080x360 with 2 Axes>"
      ]
     },
     "metadata": {
      "needs_background": "light"
     },
     "output_type": "display_data"
    },
    {
     "data": {
      "image/png": "[encoded data removed]",
      "text/plain": [
       "<Figure size 1080x360 with 2 Axes>"
      ]
     },
     "metadata": {
      "needs_background": "light"
     },
     "output_type": "display_data"
    }
   ],
   "source": [
    "# creating separate df for normal and heart patients\n",
    "\n",
    "attr_1=dt[dt['target']==1]\n",
    "\n",
    "attr_0=dt[dt['target']==0]\n",
    "\n",
    "# plotting normal patients\n",
    "fig = plt.figure(figsize=(15,5))\n",
    "ax1 = plt.subplot2grid((1,2),(0,0))\n",
    "sns.distplot(attr_0['age'])\n",
    "plt.title('AGE DISTRIBUTION OF NORMAL PATIENTS', fontsize=15, weight='bold')\n",
    "\n",
    "ax1 = plt.subplot2grid((1,2),(0,1))\n",
    "sns.countplot(attr_0['sex'], palette='viridis')\n",
    "plt.title('GENDER DISTRIBUTION OF NORMAL PATIENTS', fontsize=15, weight='bold' )\n",
    "plt.show()\n",
    "\n",
    "#plotting heart patients\n",
    "\n",
    "fig = plt.figure(figsize=(15,5))\n",
    "ax1 = plt.subplot2grid((1,2),(0,0))\n",
    "sns.distplot(attr_1['age'])\n",
    "plt.title('AGE DISTRIBUTION OF HEART DISEASE PATIENTS', fontsize=15, weight='bold')\n",
    "\n",
    "ax1 = plt.subplot2grid((1,2),(0,1))\n",
    "sns.countplot(attr_1['sex'], palette='viridis')\n",
    "plt.title('GENDER DISTRIBUTION OF HEART DISEASE PATIENTS', fontsize=15, weight='bold' )\n",
    "plt.show()"
   ]
  },
  {
   "cell_type": "markdown",
   "metadata": {},
   "source": [
    "As we can see from above plot more patients accounts for heart disease in comparison to females whereas mean age for heart disease patients is around 58 to 60 years"
   ]
  },
  {
   "cell_type": "markdown",
   "metadata": {},
   "source": [
    "### Distribution of Chest Pain Type"
   ]
  },
  {
   "cell_type": "code",
   "execution_count": 18,
   "metadata": {},
   "outputs": [
    {
     "data": {
      "image/png": "[encoded data removed]",
      "text/plain": [
       "<Figure size 1080x360 with 2 Axes>"
      ]
     },
     "metadata": {
      "needs_background": "light"
     },
     "output_type": "display_data"
    }
   ],
   "source": [
    "# plotting normal patients\n",
    "fig = plt.figure(figsize=(15,5))\n",
    "ax1 = plt.subplot2grid((1,2),(0,0))\n",
    "sns.countplot(attr_0['chest_pain_type'])\n",
    "plt.title('CHEST PAIN OF NORMAL PATIENTS', fontsize=15, weight='bold')\n",
    "\n",
    "#plotting heart patients\n",
    "ax1 = plt.subplot2grid((1,2),(0,1))\n",
    "sns.countplot(attr_1['chest_pain_type'], palette='viridis')\n",
    "plt.title('CHEST PAIN OF HEART PATIENTS', fontsize=15, weight='bold' )\n",
    "plt.show()"
   ]
  },
  {
   "cell_type": "code",
   "execution_count": 19,
   "metadata": {},
   "outputs": [
    {
     "data": {
      "text/html": [
       "<style type=\"text/css\">\n",
       "#T_5cadf_row0_col0 {\n",
       "  background-color: #fb5050;\n",
       "  color: #f1f1f1;\n",
       "}\n",
       "#T_5cadf_row0_col1, #T_5cadf_row2_col0 {\n",
       "  background-color: #ff0000;\n",
       "  color: #f1f1f1;\n",
       "}\n",
       "#T_5cadf_row1_col0 {\n",
       "  background-color: #fe0c0c;\n",
       "  color: #f1f1f1;\n",
       "}\n",
       "#T_5cadf_row1_col1 {\n",
       "  background-color: #f3eded;\n",
       "  color: #000000;\n",
       "}\n",
       "#T_5cadf_row2_col1 {\n",
       "  background-color: #f4cfcf;\n",
       "  color: #000000;\n",
       "}\n",
       "#T_5cadf_row3_col0, #T_5cadf_row3_col1 {\n",
       "  background-color: #f3f0f0;\n",
       "  color: #000000;\n",
       "}\n",
       "</style>\n",
       "<table id=\"T_5cadf\">\n",
       "  <thead>\n",
       "    <tr>\n",
       "      <th class=\"index_name level0\" >target</th>\n",
       "      <th id=\"T_5cadf_level0_col0\" class=\"col_heading level0 col0\" >0</th>\n",
       "      <th id=\"T_5cadf_level0_col1\" class=\"col_heading level0 col1\" >1</th>\n",
       "    </tr>\n",
       "    <tr>\n",
       "      <th class=\"index_name level0\" >chest_pain_type</th>\n",
       "      <th class=\"blank col0\" >&nbsp;</th>\n",
       "      <th class=\"blank col1\" >&nbsp;</th>\n",
       "    </tr>\n",
       "  </thead>\n",
       "  <tbody>\n",
       "    <tr>\n",
       "      <th id=\"T_5cadf_level0_row0\" class=\"row_heading level0 row0\" >asymptomatic</th>\n",
       "      <td id=\"T_5cadf_row0_col0\" class=\"data row0 col0\" >25.310000</td>\n",
       "      <td id=\"T_5cadf_row0_col1\" class=\"data row0 col1\" >76.910000</td>\n",
       "    </tr>\n",
       "    <tr>\n",
       "      <th id=\"T_5cadf_level0_row1\" class=\"row_heading level0 row1\" >atypical angina</th>\n",
       "      <td id=\"T_5cadf_row1_col0\" class=\"data row1 col0\" >32.980000</td>\n",
       "      <td id=\"T_5cadf_row1_col1\" class=\"data row1 col1\" >4.940000</td>\n",
       "    </tr>\n",
       "    <tr>\n",
       "      <th id=\"T_5cadf_level0_row2\" class=\"row_heading level0 row2\" >non-anginal pain</th>\n",
       "      <td id=\"T_5cadf_row2_col0\" class=\"data row2 col0\" >34.400000</td>\n",
       "      <td id=\"T_5cadf_row2_col1\" class=\"data row2 col1\" >14.170000</td>\n",
       "    </tr>\n",
       "    <tr>\n",
       "      <th id=\"T_5cadf_level0_row3\" class=\"row_heading level0 row3\" >typical angina</th>\n",
       "      <td id=\"T_5cadf_row3_col0\" class=\"data row3 col0\" >7.310000</td>\n",
       "      <td id=\"T_5cadf_row3_col1\" class=\"data row3 col1\" >3.980000</td>\n",
       "    </tr>\n",
       "  </tbody>\n",
       "</table>\n"
      ],
      "text/plain": [
       "<pandas.io.formats.style.Styler at 0x7f49f27fff10>"
      ]
     },
     "execution_count": 19,
     "metadata": {},
     "output_type": "execute_result"
    }
   ],
   "source": [
    "#Exploring the Heart Disease patients based on Chest Pain Type\n",
    "plot_criteria= ['chest_pain_type', 'target']\n",
    "cm = sns.light_palette(\"red\", as_cmap=True)\n",
    "(round(pd.crosstab(dt[plot_criteria[0]], dt[plot_criteria[1]], normalize='columns') * 100,2)).style.background_gradient(cmap = cm)"
   ]
  },
  {
   "cell_type": "markdown",
   "metadata": {},
   "source": [
    "As we can see from above plot **76%** of the chest pain type of the heart disease patients have asymptomatic chest pain. \n",
    "\n",
    "Asymptomatic heart attacks medically known as **silent myocardial infarction (SMI)** annually accounts for around 45-50% of morbidities due to cardiac ailments and even premature deaths in India. The incidences among middle aged people experiencing SMI is twice likely to develop in males than females. The symptoms of SMI being very mild in comparison to an actual heart attack; it is described as a silent killer. Unlike the symptoms in a normal heart attack which includes extreme chest pain, stabbing pain in the arms, neck & jaw, sudden shortness of breath, sweating and dizziness, the symptoms of SMI are very brief and hence confused with regular discomfort and most often ignored.\n",
    "\n",
    "[reference](https://www.maxhealthcare.in/blogs/cardiology/rise-cases-asymptomatic-heart-attacks-amongst-middle-aged-people)"
   ]
  },
  {
   "cell_type": "markdown",
   "metadata": {},
   "source": [
    "### Distribution of Rest ECG"
   ]
  },
  {
   "cell_type": "code",
   "execution_count": 20,
   "metadata": {},
   "outputs": [
    {
     "data": {
      "image/png": "[encoded data removed]",
      "text/plain": [
       "<Figure size 1080x360 with 2 Axes>"
      ]
     },
     "metadata": {
      "needs_background": "light"
     },
     "output_type": "display_data"
    }
   ],
   "source": [
    "# plotting normal patients\n",
    "fig = plt.figure(figsize=(15,5))\n",
    "ax1 = plt.subplot2grid((1,2),(0,0))\n",
    "sns.countplot(attr_0['rest_ecg'])\n",
    "plt.title('REST ECG OF NORMAL PATIENTS', fontsize=15, weight='bold')\n",
    "\n",
    "#plotting heart patients\n",
    "ax1 = plt.subplot2grid((1,2),(0,1))\n",
    "sns.countplot(attr_1['rest_ecg'], palette='viridis')\n",
    "plt.title('REST ECG OF HEART PATIENTS', fontsize=15, weight='bold' )\n",
    "plt.show()"
   ]
  },
  {
   "cell_type": "code",
   "execution_count": 21,
   "metadata": {},
   "outputs": [
    {
     "data": {
      "text/html": [
       "<style type=\"text/css\">\n",
       "#T_ddfc7_row0_col0, #T_ddfc7_row0_col1 {\n",
       "  background-color: #f3f0f0;\n",
       "  color: #000000;\n",
       "}\n",
       "#T_ddfc7_row1_col0 {\n",
       "  background-color: #f6abab;\n",
       "  color: #000000;\n",
       "}\n",
       "#T_ddfc7_row1_col1 {\n",
       "  background-color: #f6acac;\n",
       "  color: #000000;\n",
       "}\n",
       "#T_ddfc7_row2_col0, #T_ddfc7_row2_col1 {\n",
       "  background-color: #ff0000;\n",
       "  color: #f1f1f1;\n",
       "}\n",
       "</style>\n",
       "<table id=\"T_ddfc7\">\n",
       "  <thead>\n",
       "    <tr>\n",
       "      <th class=\"index_name level0\" >target</th>\n",
       "      <th id=\"T_ddfc7_level0_col0\" class=\"col_heading level0 col0\" >0</th>\n",
       "      <th id=\"T_ddfc7_level0_col1\" class=\"col_heading level0 col1\" >1</th>\n",
       "    </tr>\n",
       "    <tr>\n",
       "      <th class=\"index_name level0\" >rest_ecg</th>\n",
       "      <th class=\"blank col0\" >&nbsp;</th>\n",
       "      <th class=\"blank col1\" >&nbsp;</th>\n",
       "    </tr>\n",
       "  </thead>\n",
       "  <tbody>\n",
       "    <tr>\n",
       "      <th id=\"T_ddfc7_level0_row0\" class=\"row_heading level0 row0\" >ST-T wave abnormality</th>\n",
       "      <td id=\"T_ddfc7_row0_col0\" class=\"data row0 col0\" >11.050000</td>\n",
       "      <td id=\"T_ddfc7_row0_col1\" class=\"data row0 col1\" >18.950000</td>\n",
       "    </tr>\n",
       "    <tr>\n",
       "      <th id=\"T_ddfc7_level0_row1\" class=\"row_heading level0 row1\" >left ventricular hypertrophy</th>\n",
       "      <td id=\"T_ddfc7_row1_col0\" class=\"data row1 col0\" >26.020000</td>\n",
       "      <td id=\"T_ddfc7_row1_col1\" class=\"data row1 col1\" >28.500000</td>\n",
       "    </tr>\n",
       "    <tr>\n",
       "      <th id=\"T_ddfc7_level0_row2\" class=\"row_heading level0 row2\" >normal</th>\n",
       "      <td id=\"T_ddfc7_row2_col0\" class=\"data row2 col0\" >62.920000</td>\n",
       "      <td id=\"T_ddfc7_row2_col1\" class=\"data row2 col1\" >52.550000</td>\n",
       "    </tr>\n",
       "  </tbody>\n",
       "</table>\n"
      ],
      "text/plain": [
       "<pandas.io.formats.style.Styler at 0x7f49f1f5c880>"
      ]
     },
     "execution_count": 21,
     "metadata": {},
     "output_type": "execute_result"
    }
   ],
   "source": [
    "#Exploring the Heart Disease patients based on REST ECG\n",
    "plot_criteria= ['rest_ecg', 'target']\n",
    "cm = sns.light_palette(\"red\", as_cmap=True)\n",
    "(round(pd.crosstab(dt[plot_criteria[0]], dt[plot_criteria[1]], normalize='columns') * 100,2)).style.background_gradient(cmap = cm)"
   ]
  },
  {
   "cell_type": "markdown",
   "metadata": {},
   "source": [
    "![](https://i.ibb.co/R3V4tWC/heart1.png)\n",
    "An electrocardiogram records the electrical signals in your heart. It's a common test used to detect heart problems and monitor the heart's status in many situations. Electrocardiograms — also called ECGs or EKGs. but ECG has limits. It measures heart rate and rhythm—but it doesn’t necessarily show blockages in the arteries.Thats why in this dataset around 52% heart disease patients have normal ECG"
   ]
  },
  {
   "cell_type": "code",
   "execution_count": 22,
   "metadata": {
    "_kg_hide-input": false
   },
   "outputs": [
    {
     "data": {
      "image/png": "[encoded data removed]",
      "text/plain": [
       "<Figure size 1080x360 with 2 Axes>"
      ]
     },
     "metadata": {
      "needs_background": "light"
     },
     "output_type": "display_data"
    }
   ],
   "source": [
    "# plotting normal patients\n",
    "fig = plt.figure(figsize=(15,5))\n",
    "ax1 = plt.subplot2grid((1,2),(0,0))\n",
    "sns.countplot(attr_0['st_slope'])\n",
    "plt.title('ST SLOPE OF NORMAL PATIENTS', fontsize=15, weight='bold')\n",
    "\n",
    "#plotting heart patients\n",
    "ax1 = plt.subplot2grid((1,2),(0,1))\n",
    "sns.countplot(attr_1['st_slope'], palette='viridis')\n",
    "plt.title('ST SLOPE OF HEART PATIENTS', fontsize=15, weight='bold' )\n",
    "plt.show()"
   ]
  },
  {
   "cell_type": "code",
   "execution_count": 23,
   "metadata": {},
   "outputs": [
    {
     "data": {
      "text/html": [
       "<style type=\"text/css\">\n",
       "#T_738ea_row0_col0, #T_738ea_row0_col1 {\n",
       "  background-color: #f3f0f0;\n",
       "  color: #000000;\n",
       "}\n",
       "#T_738ea_row1_col0 {\n",
       "  background-color: #f6b3b3;\n",
       "  color: #000000;\n",
       "}\n",
       "#T_738ea_row1_col1, #T_738ea_row2_col0 {\n",
       "  background-color: #ff0000;\n",
       "  color: #f1f1f1;\n",
       "}\n",
       "#T_738ea_row2_col1 {\n",
       "  background-color: #f4d2d2;\n",
       "  color: #000000;\n",
       "}\n",
       "</style>\n",
       "<table id=\"T_738ea\">\n",
       "  <thead>\n",
       "    <tr>\n",
       "      <th class=\"index_name level0\" >target</th>\n",
       "      <th id=\"T_738ea_level0_col0\" class=\"col_heading level0 col0\" >0</th>\n",
       "      <th id=\"T_738ea_level0_col1\" class=\"col_heading level0 col1\" >1</th>\n",
       "    </tr>\n",
       "    <tr>\n",
       "      <th class=\"index_name level0\" >st_slope</th>\n",
       "      <th class=\"blank col0\" >&nbsp;</th>\n",
       "      <th class=\"blank col1\" >&nbsp;</th>\n",
       "    </tr>\n",
       "  </thead>\n",
       "  <tbody>\n",
       "    <tr>\n",
       "      <th id=\"T_738ea_level0_row0\" class=\"row_heading level0 row0\" >downsloping</th>\n",
       "      <td id=\"T_738ea_row0_col0\" class=\"data row0 col0\" >3.920000</td>\n",
       "      <td id=\"T_738ea_row0_col1\" class=\"data row0 col1\" >9.390000</td>\n",
       "    </tr>\n",
       "    <tr>\n",
       "      <th id=\"T_738ea_level0_row1\" class=\"row_heading level0 row1\" >flat</th>\n",
       "      <td id=\"T_738ea_row1_col0\" class=\"data row1 col0\" >21.930000</td>\n",
       "      <td id=\"T_738ea_row1_col1\" class=\"data row1 col1\" >73.090000</td>\n",
       "    </tr>\n",
       "    <tr>\n",
       "      <th id=\"T_738ea_level0_row2\" class=\"row_heading level0 row2\" >upsloping</th>\n",
       "      <td id=\"T_738ea_row2_col0\" class=\"data row2 col0\" >74.150000</td>\n",
       "      <td id=\"T_738ea_row2_col1\" class=\"data row2 col1\" >17.520000</td>\n",
       "    </tr>\n",
       "  </tbody>\n",
       "</table>\n"
      ],
      "text/plain": [
       "<pandas.io.formats.style.Styler at 0x7f49f2140d00>"
      ]
     },
     "execution_count": 23,
     "metadata": {},
     "output_type": "execute_result"
    }
   ],
   "source": [
    "#Exploring the Heart Disease patients based on ST Slope\n",
    "plot_criteria= ['st_slope', 'target']\n",
    "cm = sns.light_palette(\"red\", as_cmap=True)\n",
    "(round(pd.crosstab(dt[plot_criteria[0]], dt[plot_criteria[1]], normalize='columns') * 100,2)).style.background_gradient(cmap = cm)"
   ]
  },
  {
   "cell_type": "markdown",
   "metadata": {},
   "source": [
    "\n",
    "The ST segment /heart rate slope (ST/HR slope), has been proposed as a more accurate ECG criterion for diagnosing significant coronary artery disease (CAD) in most of the research papers. \n",
    "\n",
    "As we can see from above plot upsloping is positive sign as 74% of the normal patients have upslope where as 72.97% heart patients have flat sloping."
   ]
  },
  {
   "cell_type": "markdown",
   "metadata": {},
   "source": [
    "### Distribution of Numerical features"
   ]
  },
  {
   "cell_type": "code",
   "execution_count": 24,
   "metadata": {},
   "outputs": [
    {
     "data": {
      "text/plain": [
       "<seaborn.axisgrid.PairGrid at 0x7f49f1e4f370>"
      ]
     },
     "execution_count": 24,
     "metadata": {},
     "output_type": "execute_result"
    },
    {
     "data": {
      "image/png": "[encoded data removed]",
      "text/plain": [
       "<Figure size 582.375x540 with 12 Axes>"
      ]
     },
     "metadata": {
      "needs_background": "light"
     },
     "output_type": "display_data"
    }
   ],
   "source": [
    "sns.pairplot(dt, hue = 'target', vars = ['age', 'resting_blood_pressure', 'cholesterol'] )"
   ]
  },
  {
   "cell_type": "markdown",
   "metadata": {},
   "source": [
    "From the above plot it is clear that as the age increases chances of heart disease increases"
   ]
  },
  {
   "cell_type": "code",
   "execution_count": 25,
   "metadata": {},
   "outputs": [
    {
     "data": {
      "text/plain": [
       "<AxesSubplot:xlabel='resting_blood_pressure', ylabel='cholesterol'>"
      ]
     },
     "execution_count": 25,
     "metadata": {},
     "output_type": "execute_result"
    },
    {
     "data": {
      "image/png": "[encoded data removed]",
      "text/plain": [
       "<Figure size 432x288 with 1 Axes>"
      ]
     },
     "metadata": {
      "needs_background": "light"
     },
     "output_type": "display_data"
    }
   ],
   "source": [
    "sns.scatterplot(x = 'resting_blood_pressure', y = 'cholesterol', hue = 'target', data = dt)"
   ]
  },
  {
   "cell_type": "markdown",
   "metadata": {},
   "source": [
    "From the above plot we can see outliers clearly as for some of the patients cholestrol is 0 whereas for one patient both cholestrol and resting bp is 0 which is may be due to missing entries we will filter these ouliers later"
   ]
  },
  {
   "cell_type": "code",
   "execution_count": 26,
   "metadata": {},
   "outputs": [
    {
     "data": {
      "text/plain": [
       "<AxesSubplot:xlabel='resting_blood_pressure', ylabel='age'>"
      ]
     },
     "execution_count": 26,
     "metadata": {},
     "output_type": "execute_result"
    },
    {
     "data": {
      "image/png": "[encoded data removed]",
      "text/plain": [
       "<Figure size 432x288 with 1 Axes>"
      ]
     },
     "metadata": {
      "needs_background": "light"
     },
     "output_type": "display_data"
    }
   ],
   "source": [
    "sns.scatterplot(x = 'resting_blood_pressure', y = 'age', hue = 'target', data = dt)"
   ]
  },
  {
   "cell_type": "markdown",
   "metadata": {},
   "source": [
    "## 6. Outlier Detection & Removal <a id='data-out'></a>"
   ]
  },
  {
   "cell_type": "markdown",
   "metadata": {},
   "source": [
    "### Detecting outlier using z-score\n",
    "![](https://i.ibb.co/bgRRWrp/outlier.jpg)\n",
    "![](https://i.ibb.co/jDHP7Sj/Z-score-formula.jpg)"
   ]
  },
  {
   "cell_type": "code",
   "execution_count": 27,
   "metadata": {},
   "outputs": [],
   "source": [
    "# filtering numeric features as age , resting bp, cholestrol and max heart rate achieved has outliers as per EDA\n",
    "\n",
    "dt_numeric = dt[['age','resting_blood_pressure','cholesterol','max_heart_rate_achieved']]"
   ]
  },
  {
   "cell_type": "code",
   "execution_count": 28,
   "metadata": {},
   "outputs": [
    {
     "data": {
      "text/html": [
       "<div>\n",
       "<style scoped>\n",
       "    .dataframe tbody tr th:only-of-type {\n",
       "        vertical-align: middle;\n",
       "    }\n",
       "\n",
       "    .dataframe tbody tr th {\n",
       "        vertical-align: top;\n",
       "    }\n",
       "\n",
       "    .dataframe thead th {\n",
       "        text-align: right;\n",
       "    }\n",
       "</style>\n",
       "<table border=\"1\" class=\"dataframe\">\n",
       "  <thead>\n",
       "    <tr style=\"text-align: right;\">\n",
       "      <th></th>\n",
       "      <th>age</th>\n",
       "      <th>resting_blood_pressure</th>\n",
       "      <th>cholesterol</th>\n",
       "      <th>max_heart_rate_achieved</th>\n",
       "    </tr>\n",
       "  </thead>\n",
       "  <tbody>\n",
       "    <tr>\n",
       "      <th>0</th>\n",
       "      <td>40</td>\n",
       "      <td>140</td>\n",
       "      <td>289</td>\n",
       "      <td>172</td>\n",
       "    </tr>\n",
       "    <tr>\n",
       "      <th>1</th>\n",
       "      <td>49</td>\n",
       "      <td>160</td>\n",
       "      <td>180</td>\n",
       "      <td>156</td>\n",
       "    </tr>\n",
       "    <tr>\n",
       "      <th>2</th>\n",
       "      <td>37</td>\n",
       "      <td>130</td>\n",
       "      <td>283</td>\n",
       "      <td>98</td>\n",
       "    </tr>\n",
       "    <tr>\n",
       "      <th>3</th>\n",
       "      <td>48</td>\n",
       "      <td>138</td>\n",
       "      <td>214</td>\n",
       "      <td>108</td>\n",
       "    </tr>\n",
       "    <tr>\n",
       "      <th>4</th>\n",
       "      <td>54</td>\n",
       "      <td>150</td>\n",
       "      <td>195</td>\n",
       "      <td>122</td>\n",
       "    </tr>\n",
       "  </tbody>\n",
       "</table>\n",
       "</div>"
      ],
      "text/plain": [
       "   age  resting_blood_pressure  cholesterol  max_heart_rate_achieved\n",
       "0   40                     140          289                      172\n",
       "1   49                     160          180                      156\n",
       "2   37                     130          283                       98\n",
       "3   48                     138          214                      108\n",
       "4   54                     150          195                      122"
      ]
     },
     "execution_count": 28,
     "metadata": {},
     "output_type": "execute_result"
    }
   ],
   "source": [
    "dt_numeric.head()"
   ]
  },
  {
   "cell_type": "code",
   "execution_count": 29,
   "metadata": {},
   "outputs": [
    {
     "name": "stdout",
     "output_type": "stream",
     "text": [
      "           age  resting_blood_pressure  cholesterol  max_heart_rate_achieved\n",
      "0     1.466266                0.428136     0.775228                 1.264301\n",
      "1     0.503599                1.517370     0.299516                 0.637259\n",
      "2     1.787155                0.116481     0.716067                 1.635766\n",
      "3     0.610562                0.319212     0.035725                 1.243865\n",
      "4     0.031216                0.972753     0.151616                 0.695204\n",
      "...        ...                     ...          ...                      ...\n",
      "1185  0.931451                1.205715     0.528727                 0.303303\n",
      "1186  1.528698                0.645983     0.171336                 0.049408\n",
      "1187  0.352105                0.116481     0.782658                 0.969535\n",
      "1188  0.352105                0.116481     0.252646                 1.342681\n",
      "1189  1.680192                0.319212     0.348816                 1.303491\n",
      "\n",
      "[1189 rows x 4 columns]\n"
     ]
    }
   ],
   "source": [
    "# calculating zscore of numeric columns in the dataset\n",
    "z = np.abs(stats.zscore(dt_numeric))\n",
    "print(z)"
   ]
  },
  {
   "cell_type": "markdown",
   "metadata": {},
   "source": [
    "from these points it is diffciult to say which points are outliers so we will now define threshold"
   ]
  },
  {
   "cell_type": "code",
   "execution_count": 30,
   "metadata": {},
   "outputs": [
    {
     "name": "stdout",
     "output_type": "stream",
     "text": [
      "(array([  30,   76,  109,  149,  242,  366,  371,  391,  400,  450,  592,\n",
      "        617,  733,  760, 1012, 1038, 1074]), array([2, 2, 1, 2, 1, 1, 3, 3, 1, 1, 1, 2, 1, 1, 1, 2, 1]))\n"
     ]
    }
   ],
   "source": [
    "# Defining threshold for filtering outliers \n",
    "threshold = 3\n",
    "print(np.where(z > 3))"
   ]
  },
  {
   "cell_type": "markdown",
   "metadata": {},
   "source": [
    "Don’t be confused by the results. The first array contains the list of row numbers and second array respective column numbers, which mean z[30][2] have a Z-score higher than 3. There are total 17 data points which are outliers."
   ]
  },
  {
   "cell_type": "code",
   "execution_count": 31,
   "metadata": {},
   "outputs": [],
   "source": [
    "#filtering outliers retaining only those data points which are below threshhold\n",
    "dt = dt[(z < 3).all(axis=1)]"
   ]
  },
  {
   "cell_type": "code",
   "execution_count": 32,
   "metadata": {},
   "outputs": [
    {
     "data": {
      "text/plain": [
       "(1172, 12)"
      ]
     },
     "execution_count": 32,
     "metadata": {},
     "output_type": "execute_result"
    }
   ],
   "source": [
    "# checking shape of dataset after outlier removal\n",
    "dt.shape"
   ]
  },
  {
   "cell_type": "markdown",
   "metadata": {},
   "source": [
    "Great !! all the 17 data points which are outliers are now removed.\n",
    "\n",
    "Now before splitting dataset into train and test we first encode categorical variables as dummy variables and segregate feature and target variable."
   ]
  },
  {
   "cell_type": "code",
   "execution_count": 33,
   "metadata": {},
   "outputs": [
    {
     "data": {
      "text/html": [
       "<div>\n",
       "<style scoped>\n",
       "    .dataframe tbody tr th:only-of-type {\n",
       "        vertical-align: middle;\n",
       "    }\n",
       "\n",
       "    .dataframe tbody tr th {\n",
       "        vertical-align: top;\n",
       "    }\n",
       "\n",
       "    .dataframe thead th {\n",
       "        text-align: right;\n",
       "    }\n",
       "</style>\n",
       "<table border=\"1\" class=\"dataframe\">\n",
       "  <thead>\n",
       "    <tr style=\"text-align: right;\">\n",
       "      <th></th>\n",
       "      <th>age</th>\n",
       "      <th>resting_blood_pressure</th>\n",
       "      <th>cholesterol</th>\n",
       "      <th>fasting_blood_sugar</th>\n",
       "      <th>max_heart_rate_achieved</th>\n",
       "      <th>exercise_induced_angina</th>\n",
       "      <th>st_depression</th>\n",
       "      <th>target</th>\n",
       "      <th>sex_male</th>\n",
       "      <th>chest_pain_type_atypical angina</th>\n",
       "      <th>chest_pain_type_non-anginal pain</th>\n",
       "      <th>chest_pain_type_typical angina</th>\n",
       "      <th>rest_ecg_left ventricular hypertrophy</th>\n",
       "      <th>rest_ecg_normal</th>\n",
       "      <th>st_slope_flat</th>\n",
       "      <th>st_slope_upsloping</th>\n",
       "    </tr>\n",
       "  </thead>\n",
       "  <tbody>\n",
       "    <tr>\n",
       "      <th>0</th>\n",
       "      <td>40</td>\n",
       "      <td>140</td>\n",
       "      <td>289</td>\n",
       "      <td>0</td>\n",
       "      <td>172</td>\n",
       "      <td>0</td>\n",
       "      <td>0.0</td>\n",
       "      <td>0</td>\n",
       "      <td>1</td>\n",
       "      <td>1</td>\n",
       "      <td>0</td>\n",
       "      <td>0</td>\n",
       "      <td>0</td>\n",
       "      <td>1</td>\n",
       "      <td>0</td>\n",
       "      <td>1</td>\n",
       "    </tr>\n",
       "    <tr>\n",
       "      <th>1</th>\n",
       "      <td>49</td>\n",
       "      <td>160</td>\n",
       "      <td>180</td>\n",
       "      <td>0</td>\n",
       "      <td>156</td>\n",
       "      <td>0</td>\n",
       "      <td>1.0</td>\n",
       "      <td>1</td>\n",
       "      <td>0</td>\n",
       "      <td>0</td>\n",
       "      <td>1</td>\n",
       "      <td>0</td>\n",
       "      <td>0</td>\n",
       "      <td>1</td>\n",
       "      <td>1</td>\n",
       "      <td>0</td>\n",
       "    </tr>\n",
       "    <tr>\n",
       "      <th>2</th>\n",
       "      <td>37</td>\n",
       "      <td>130</td>\n",
       "      <td>283</td>\n",
       "      <td>0</td>\n",
       "      <td>98</td>\n",
       "      <td>0</td>\n",
       "      <td>0.0</td>\n",
       "      <td>0</td>\n",
       "      <td>1</td>\n",
       "      <td>1</td>\n",
       "      <td>0</td>\n",
       "      <td>0</td>\n",
       "      <td>0</td>\n",
       "      <td>0</td>\n",
       "      <td>0</td>\n",
       "      <td>1</td>\n",
       "    </tr>\n",
       "    <tr>\n",
       "      <th>3</th>\n",
       "      <td>48</td>\n",
       "      <td>138</td>\n",
       "      <td>214</td>\n",
       "      <td>0</td>\n",
       "      <td>108</td>\n",
       "      <td>1</td>\n",
       "      <td>1.5</td>\n",
       "      <td>1</td>\n",
       "      <td>0</td>\n",
       "      <td>0</td>\n",
       "      <td>0</td>\n",
       "      <td>0</td>\n",
       "      <td>0</td>\n",
       "      <td>1</td>\n",
       "      <td>1</td>\n",
       "      <td>0</td>\n",
       "    </tr>\n",
       "    <tr>\n",
       "      <th>4</th>\n",
       "      <td>54</td>\n",
       "      <td>150</td>\n",
       "      <td>195</td>\n",
       "      <td>0</td>\n",
       "      <td>122</td>\n",
       "      <td>0</td>\n",
       "      <td>0.0</td>\n",
       "      <td>0</td>\n",
       "      <td>1</td>\n",
       "      <td>0</td>\n",
       "      <td>1</td>\n",
       "      <td>0</td>\n",
       "      <td>0</td>\n",
       "      <td>1</td>\n",
       "      <td>0</td>\n",
       "      <td>1</td>\n",
       "    </tr>\n",
       "  </tbody>\n",
       "</table>\n",
       "</div>"
      ],
      "text/plain": [
       "   age  resting_blood_pressure  cholesterol  fasting_blood_sugar  \\\n",
       "0   40                     140          289                    0   \n",
       "1   49                     160          180                    0   \n",
       "2   37                     130          283                    0   \n",
       "3   48                     138          214                    0   \n",
       "4   54                     150          195                    0   \n",
       "\n",
       "   max_heart_rate_achieved  exercise_induced_angina  st_depression  target  \\\n",
       "0                      172                        0            0.0       0   \n",
       "1                      156                        0            1.0       1   \n",
       "2                       98                        0            0.0       0   \n",
       "3                      108                        1            1.5       1   \n",
       "4                      122                        0            0.0       0   \n",
       "\n",
       "   sex_male  chest_pain_type_atypical angina  \\\n",
       "0         1                                1   \n",
       "1         0                                0   \n",
       "2         1                                1   \n",
       "3         0                                0   \n",
       "4         1                                0   \n",
       "\n",
       "   chest_pain_type_non-anginal pain  chest_pain_type_typical angina  \\\n",
       "0                                 0                               0   \n",
       "1                                 1                               0   \n",
       "2                                 0                               0   \n",
       "3                                 0                               0   \n",
       "4                                 1                               0   \n",
       "\n",
       "   rest_ecg_left ventricular hypertrophy  rest_ecg_normal  st_slope_flat  \\\n",
       "0                                      0                1              0   \n",
       "1                                      0                1              1   \n",
       "2                                      0                0              0   \n",
       "3                                      0                1              1   \n",
       "4                                      0                1              0   \n",
       "\n",
       "   st_slope_upsloping  \n",
       "0                   1  \n",
       "1                   0  \n",
       "2                   1  \n",
       "3                   0  \n",
       "4                   1  "
      ]
     },
     "execution_count": 33,
     "metadata": {},
     "output_type": "execute_result"
    }
   ],
   "source": [
    "## encoding categorical variables\n",
    "dt = pd.get_dummies(dt, drop_first=True)\n",
    "\n",
    "dt.head()\n"
   ]
  },
  {
   "cell_type": "code",
   "execution_count": 34,
   "metadata": {},
   "outputs": [
    {
     "data": {
      "text/plain": [
       "(1172, 16)"
      ]
     },
     "execution_count": 34,
     "metadata": {},
     "output_type": "execute_result"
    }
   ],
   "source": [
    "# checking the shape of dataset\n",
    "dt.shape"
   ]
  },
  {
   "cell_type": "code",
   "execution_count": 35,
   "metadata": {},
   "outputs": [],
   "source": [
    "# segregating dataset into features i.e., X and target variables i.e., y\n",
    "X = dt.drop(['target'],axis=1)\n",
    "y = dt['target']"
   ]
  },
  {
   "cell_type": "markdown",
   "metadata": {},
   "source": [
    "## Checking Correlation "
   ]
  },
  {
   "cell_type": "code",
   "execution_count": 36,
   "metadata": {},
   "outputs": [
    {
     "data": {
      "text/plain": [
       "<AxesSubplot:title={'center':'Correlation with Diabetes'}>"
      ]
     },
     "execution_count": 36,
     "metadata": {},
     "output_type": "execute_result"
    },
    {
     "data": {
      "image/png": "[encoded data removed]",
      "text/plain": [
       "<Figure size 1152x288 with 1 Axes>"
      ]
     },
     "metadata": {
      "needs_background": "light"
     },
     "output_type": "display_data"
    }
   ],
   "source": [
    "#Correlation with Response Variable class\n",
    "\n",
    "X.corrwith(y).plot.bar(\n",
    "        figsize = (16, 4), title = \"Correlation with Diabetes\", fontsize = 15,\n",
    "        rot = 90, grid = True)\n"
   ]
  },
  {
   "cell_type": "markdown",
   "metadata": {},
   "source": [
    "## 7. Train Test Split <a id='data-train'></a>"
   ]
  },
  {
   "cell_type": "code",
   "execution_count": 37,
   "metadata": {},
   "outputs": [],
   "source": [
    "X_train, X_test, y_train, y_test = train_test_split(X, y, stratify=y, test_size=0.2,shuffle=True, random_state=5)"
   ]
  },
  {
   "cell_type": "code",
   "execution_count": 38,
   "metadata": {},
   "outputs": [
    {
     "name": "stdout",
     "output_type": "stream",
     "text": [
      "Distribution of traget variable in training set\n",
      "1    491\n",
      "0    446\n",
      "Name: target, dtype: int64\n",
      "Distribution of traget variable in test set\n",
      "1    123\n",
      "0    112\n",
      "Name: target, dtype: int64\n"
     ]
    }
   ],
   "source": [
    "## checking distribution of traget variable in train test split\n",
    "print('Distribution of traget variable in training set')\n",
    "print(y_train.value_counts())\n",
    "\n",
    "print('Distribution of traget variable in test set')\n",
    "print(y_test.value_counts())"
   ]
  },
  {
   "cell_type": "code",
   "execution_count": 39,
   "metadata": {},
   "outputs": [
    {
     "name": "stdout",
     "output_type": "stream",
     "text": [
      "------------Training Set------------------\n",
      "(937, 15)\n",
      "(937,)\n",
      "------------Test Set------------------\n",
      "(235, 15)\n",
      "(235,)\n"
     ]
    }
   ],
   "source": [
    "print('------------Training Set------------------')\n",
    "print(X_train.shape)\n",
    "print(y_train.shape)\n",
    "\n",
    "print('------------Test Set------------------')\n",
    "print(X_test.shape)\n",
    "print(y_test.shape)"
   ]
  },
  {
   "cell_type": "markdown",
   "metadata": {},
   "source": [
    "### feature normalization\n",
    "In this step we will normalize all the numeric feature in the range of 0 to 1"
   ]
  },
  {
   "cell_type": "code",
   "execution_count": 40,
   "metadata": {},
   "outputs": [
    {
     "data": {
      "text/html": [
       "<div>\n",
       "<style scoped>\n",
       "    .dataframe tbody tr th:only-of-type {\n",
       "        vertical-align: middle;\n",
       "    }\n",
       "\n",
       "    .dataframe tbody tr th {\n",
       "        vertical-align: top;\n",
       "    }\n",
       "\n",
       "    .dataframe thead th {\n",
       "        text-align: right;\n",
       "    }\n",
       "</style>\n",
       "<table border=\"1\" class=\"dataframe\">\n",
       "  <thead>\n",
       "    <tr style=\"text-align: right;\">\n",
       "      <th></th>\n",
       "      <th>age</th>\n",
       "      <th>resting_blood_pressure</th>\n",
       "      <th>cholesterol</th>\n",
       "      <th>fasting_blood_sugar</th>\n",
       "      <th>max_heart_rate_achieved</th>\n",
       "      <th>exercise_induced_angina</th>\n",
       "      <th>st_depression</th>\n",
       "      <th>sex_male</th>\n",
       "      <th>chest_pain_type_atypical angina</th>\n",
       "      <th>chest_pain_type_non-anginal pain</th>\n",
       "      <th>chest_pain_type_typical angina</th>\n",
       "      <th>rest_ecg_left ventricular hypertrophy</th>\n",
       "      <th>rest_ecg_normal</th>\n",
       "      <th>st_slope_flat</th>\n",
       "      <th>st_slope_upsloping</th>\n",
       "    </tr>\n",
       "  </thead>\n",
       "  <tbody>\n",
       "    <tr>\n",
       "      <th>478</th>\n",
       "      <td>0.673469</td>\n",
       "      <td>0.193548</td>\n",
       "      <td>0.000000</td>\n",
       "      <td>1</td>\n",
       "      <td>0.303704</td>\n",
       "      <td>1</td>\n",
       "      <td>0.454545</td>\n",
       "      <td>1</td>\n",
       "      <td>0</td>\n",
       "      <td>0</td>\n",
       "      <td>0</td>\n",
       "      <td>0</td>\n",
       "      <td>1</td>\n",
       "      <td>0</td>\n",
       "      <td>0</td>\n",
       "    </tr>\n",
       "    <tr>\n",
       "      <th>253</th>\n",
       "      <td>0.673469</td>\n",
       "      <td>0.354839</td>\n",
       "      <td>0.594705</td>\n",
       "      <td>0</td>\n",
       "      <td>0.355556</td>\n",
       "      <td>1</td>\n",
       "      <td>0.194805</td>\n",
       "      <td>1</td>\n",
       "      <td>0</td>\n",
       "      <td>0</td>\n",
       "      <td>0</td>\n",
       "      <td>0</td>\n",
       "      <td>0</td>\n",
       "      <td>0</td>\n",
       "      <td>1</td>\n",
       "    </tr>\n",
       "    <tr>\n",
       "      <th>273</th>\n",
       "      <td>0.551020</td>\n",
       "      <td>0.516129</td>\n",
       "      <td>0.409369</td>\n",
       "      <td>0</td>\n",
       "      <td>0.466667</td>\n",
       "      <td>1</td>\n",
       "      <td>0.584416</td>\n",
       "      <td>1</td>\n",
       "      <td>0</td>\n",
       "      <td>0</td>\n",
       "      <td>0</td>\n",
       "      <td>0</td>\n",
       "      <td>1</td>\n",
       "      <td>1</td>\n",
       "      <td>0</td>\n",
       "    </tr>\n",
       "    <tr>\n",
       "      <th>111</th>\n",
       "      <td>0.591837</td>\n",
       "      <td>0.623656</td>\n",
       "      <td>0.519348</td>\n",
       "      <td>0</td>\n",
       "      <td>0.185185</td>\n",
       "      <td>1</td>\n",
       "      <td>0.584416</td>\n",
       "      <td>1</td>\n",
       "      <td>0</td>\n",
       "      <td>0</td>\n",
       "      <td>0</td>\n",
       "      <td>0</td>\n",
       "      <td>1</td>\n",
       "      <td>1</td>\n",
       "      <td>0</td>\n",
       "    </tr>\n",
       "    <tr>\n",
       "      <th>50</th>\n",
       "      <td>0.448980</td>\n",
       "      <td>0.408602</td>\n",
       "      <td>0.474542</td>\n",
       "      <td>0</td>\n",
       "      <td>0.400000</td>\n",
       "      <td>1</td>\n",
       "      <td>0.454545</td>\n",
       "      <td>1</td>\n",
       "      <td>0</td>\n",
       "      <td>0</td>\n",
       "      <td>0</td>\n",
       "      <td>0</td>\n",
       "      <td>1</td>\n",
       "      <td>1</td>\n",
       "      <td>0</td>\n",
       "    </tr>\n",
       "  </tbody>\n",
       "</table>\n",
       "</div>"
      ],
      "text/plain": [
       "          age  resting_blood_pressure  cholesterol  fasting_blood_sugar  \\\n",
       "478  0.673469                0.193548     0.000000                    1   \n",
       "253  0.673469                0.354839     0.594705                    0   \n",
       "273  0.551020                0.516129     0.409369                    0   \n",
       "111  0.591837                0.623656     0.519348                    0   \n",
       "50   0.448980                0.408602     0.474542                    0   \n",
       "\n",
       "     max_heart_rate_achieved  exercise_induced_angina  st_depression  \\\n",
       "478                 0.303704                        1       0.454545   \n",
       "253                 0.355556                        1       0.194805   \n",
       "273                 0.466667                        1       0.584416   \n",
       "111                 0.185185                        1       0.584416   \n",
       "50                  0.400000                        1       0.454545   \n",
       "\n",
       "     sex_male  chest_pain_type_atypical angina  \\\n",
       "478         1                                0   \n",
       "253         1                                0   \n",
       "273         1                                0   \n",
       "111         1                                0   \n",
       "50          1                                0   \n",
       "\n",
       "     chest_pain_type_non-anginal pain  chest_pain_type_typical angina  \\\n",
       "478                                 0                               0   \n",
       "253                                 0                               0   \n",
       "273                                 0                               0   \n",
       "111                                 0                               0   \n",
       "50                                  0                               0   \n",
       "\n",
       "     rest_ecg_left ventricular hypertrophy  rest_ecg_normal  st_slope_flat  \\\n",
       "478                                      0                1              0   \n",
       "253                                      0                0              0   \n",
       "273                                      0                1              1   \n",
       "111                                      0                1              1   \n",
       "50                                       0                1              1   \n",
       "\n",
       "     st_slope_upsloping  \n",
       "478                   0  \n",
       "253                   1  \n",
       "273                   0  \n",
       "111                   0  \n",
       "50                    0  "
      ]
     },
     "execution_count": 40,
     "metadata": {},
     "output_type": "execute_result"
    }
   ],
   "source": [
    "from sklearn.preprocessing import MinMaxScaler\n",
    "scaler = MinMaxScaler()\n",
    "X_train[['age','resting_blood_pressure','cholesterol','max_heart_rate_achieved','st_depression']] = scaler.fit_transform(X_train[['age','resting_blood_pressure','cholesterol','max_heart_rate_achieved','st_depression']])\n",
    "X_train.head()"
   ]
  },
  {
   "cell_type": "code",
   "execution_count": 41,
   "metadata": {},
   "outputs": [
    {
     "data": {
      "text/html": [
       "<div>\n",
       "<style scoped>\n",
       "    .dataframe tbody tr th:only-of-type {\n",
       "        vertical-align: middle;\n",
       "    }\n",
       "\n",
       "    .dataframe tbody tr th {\n",
       "        vertical-align: top;\n",
       "    }\n",
       "\n",
       "    .dataframe thead th {\n",
       "        text-align: right;\n",
       "    }\n",
       "</style>\n",
       "<table border=\"1\" class=\"dataframe\">\n",
       "  <thead>\n",
       "    <tr style=\"text-align: right;\">\n",
       "      <th></th>\n",
       "      <th>age</th>\n",
       "      <th>resting_blood_pressure</th>\n",
       "      <th>cholesterol</th>\n",
       "      <th>fasting_blood_sugar</th>\n",
       "      <th>max_heart_rate_achieved</th>\n",
       "      <th>exercise_induced_angina</th>\n",
       "      <th>st_depression</th>\n",
       "      <th>sex_male</th>\n",
       "      <th>chest_pain_type_atypical angina</th>\n",
       "      <th>chest_pain_type_non-anginal pain</th>\n",
       "      <th>chest_pain_type_typical angina</th>\n",
       "      <th>rest_ecg_left ventricular hypertrophy</th>\n",
       "      <th>rest_ecg_normal</th>\n",
       "      <th>st_slope_flat</th>\n",
       "      <th>st_slope_upsloping</th>\n",
       "    </tr>\n",
       "  </thead>\n",
       "  <tbody>\n",
       "    <tr>\n",
       "      <th>1024</th>\n",
       "      <td>0.693878</td>\n",
       "      <td>0.301075</td>\n",
       "      <td>0.572301</td>\n",
       "      <td>0</td>\n",
       "      <td>0.266667</td>\n",
       "      <td>0</td>\n",
       "      <td>0.376623</td>\n",
       "      <td>1</td>\n",
       "      <td>1</td>\n",
       "      <td>0</td>\n",
       "      <td>0</td>\n",
       "      <td>1</td>\n",
       "      <td>0</td>\n",
       "      <td>1</td>\n",
       "      <td>0</td>\n",
       "    </tr>\n",
       "    <tr>\n",
       "      <th>182</th>\n",
       "      <td>0.469388</td>\n",
       "      <td>0.408602</td>\n",
       "      <td>0.456212</td>\n",
       "      <td>0</td>\n",
       "      <td>0.614815</td>\n",
       "      <td>0</td>\n",
       "      <td>0.194805</td>\n",
       "      <td>1</td>\n",
       "      <td>1</td>\n",
       "      <td>0</td>\n",
       "      <td>0</td>\n",
       "      <td>0</td>\n",
       "      <td>1</td>\n",
       "      <td>0</td>\n",
       "      <td>1</td>\n",
       "    </tr>\n",
       "    <tr>\n",
       "      <th>785</th>\n",
       "      <td>0.346939</td>\n",
       "      <td>0.494624</td>\n",
       "      <td>0.480652</td>\n",
       "      <td>0</td>\n",
       "      <td>0.629630</td>\n",
       "      <td>1</td>\n",
       "      <td>0.220779</td>\n",
       "      <td>0</td>\n",
       "      <td>0</td>\n",
       "      <td>0</td>\n",
       "      <td>0</td>\n",
       "      <td>1</td>\n",
       "      <td>0</td>\n",
       "      <td>1</td>\n",
       "      <td>0</td>\n",
       "    </tr>\n",
       "    <tr>\n",
       "      <th>924</th>\n",
       "      <td>0.591837</td>\n",
       "      <td>0.623656</td>\n",
       "      <td>0.562118</td>\n",
       "      <td>0</td>\n",
       "      <td>0.333333</td>\n",
       "      <td>1</td>\n",
       "      <td>0.272727</td>\n",
       "      <td>1</td>\n",
       "      <td>0</td>\n",
       "      <td>0</td>\n",
       "      <td>0</td>\n",
       "      <td>1</td>\n",
       "      <td>0</td>\n",
       "      <td>1</td>\n",
       "      <td>0</td>\n",
       "    </tr>\n",
       "    <tr>\n",
       "      <th>780</th>\n",
       "      <td>0.612245</td>\n",
       "      <td>0.387097</td>\n",
       "      <td>0.527495</td>\n",
       "      <td>0</td>\n",
       "      <td>0.466667</td>\n",
       "      <td>1</td>\n",
       "      <td>0.584416</td>\n",
       "      <td>1</td>\n",
       "      <td>0</td>\n",
       "      <td>0</td>\n",
       "      <td>0</td>\n",
       "      <td>1</td>\n",
       "      <td>0</td>\n",
       "      <td>1</td>\n",
       "      <td>0</td>\n",
       "    </tr>\n",
       "  </tbody>\n",
       "</table>\n",
       "</div>"
      ],
      "text/plain": [
       "           age  resting_blood_pressure  cholesterol  fasting_blood_sugar  \\\n",
       "1024  0.693878                0.301075     0.572301                    0   \n",
       "182   0.469388                0.408602     0.456212                    0   \n",
       "785   0.346939                0.494624     0.480652                    0   \n",
       "924   0.591837                0.623656     0.562118                    0   \n",
       "780   0.612245                0.387097     0.527495                    0   \n",
       "\n",
       "      max_heart_rate_achieved  exercise_induced_angina  st_depression  \\\n",
       "1024                 0.266667                        0       0.376623   \n",
       "182                  0.614815                        0       0.194805   \n",
       "785                  0.629630                        1       0.220779   \n",
       "924                  0.333333                        1       0.272727   \n",
       "780                  0.466667                        1       0.584416   \n",
       "\n",
       "      sex_male  chest_pain_type_atypical angina  \\\n",
       "1024         1                                1   \n",
       "182          1                                1   \n",
       "785          0                                0   \n",
       "924          1                                0   \n",
       "780          1                                0   \n",
       "\n",
       "      chest_pain_type_non-anginal pain  chest_pain_type_typical angina  \\\n",
       "1024                                 0                               0   \n",
       "182                                  0                               0   \n",
       "785                                  0                               0   \n",
       "924                                  0                               0   \n",
       "780                                  0                               0   \n",
       "\n",
       "      rest_ecg_left ventricular hypertrophy  rest_ecg_normal  st_slope_flat  \\\n",
       "1024                                      1                0              1   \n",
       "182                                       0                1              0   \n",
       "785                                       1                0              1   \n",
       "924                                       1                0              1   \n",
       "780                                       1                0              1   \n",
       "\n",
       "      st_slope_upsloping  \n",
       "1024                   0  \n",
       "182                    1  \n",
       "785                    0  \n",
       "924                    0  \n",
       "780                    0  "
      ]
     },
     "execution_count": 41,
     "metadata": {},
     "output_type": "execute_result"
    }
   ],
   "source": [
    "X_test[['age','resting_blood_pressure','cholesterol','max_heart_rate_achieved','st_depression']] = scaler.transform(X_test[['age','resting_blood_pressure','cholesterol','max_heart_rate_achieved','st_depression']])\n",
    "X_test.head()"
   ]
  },
  {
   "cell_type": "markdown",
   "metadata": {},
   "source": [
    "## 8. Cross Validation <a id='cross-val'></a>\n",
    "\n",
    "In this step, we will build different baseline models and perform 10-fold cross validation to filter top performing baseline models to be used in level 0 of stacked ensemble method."
   ]
  },
  {
   "cell_type": "code",
   "execution_count": 42,
   "metadata": {},
   "outputs": [],
   "source": [
    "from sklearn import model_selection\n",
    "from sklearn.model_selection import cross_val_score\n",
    "import xgboost as xgb\n",
    "# function initializing baseline machine learning models\n",
    "def GetBasedModel():\n",
    "    basedModels = []\n",
    "    basedModels.append(('LR_L2'   , LogisticRegression(penalty='l2')))\n",
    "    basedModels.append(('LDA'  , LinearDiscriminantAnalysis()))\n",
    "    basedModels.append(('KNN7'  , KNeighborsClassifier(7)))\n",
    "    basedModels.append(('KNN5'  , KNeighborsClassifier(5)))\n",
    "    basedModels.append(('KNN9'  , KNeighborsClassifier(9)))\n",
    "    basedModels.append(('KNN11'  , KNeighborsClassifier(11)))\n",
    "    basedModels.append(('CART' , DecisionTreeClassifier()))\n",
    "    basedModels.append(('NB'   , GaussianNB()))\n",
    "    basedModels.append(('SVM Linear'  , SVC(kernel='linear',gamma='auto',probability=True)))\n",
    "    basedModels.append(('SVM RBF'  , SVC(kernel='rbf',gamma='auto',probability=True)))\n",
    "    basedModels.append(('AB'   , AdaBoostClassifier()))\n",
    "    basedModels.append(('GBM'  , GradientBoostingClassifier(n_estimators=100,max_features='sqrt')))\n",
    "    basedModels.append(('RF_Ent100'   , RandomForestClassifier(criterion='entropy',n_estimators=100)))\n",
    "    basedModels.append(('RF_Gini100'   , RandomForestClassifier(criterion='gini',n_estimators=100)))\n",
    "    basedModels.append(('ET100'   , ExtraTreesClassifier(n_estimators= 100)))\n",
    "    basedModels.append(('ET500'   , ExtraTreesClassifier(n_estimators= 500)))\n",
    "    basedModels.append(('MLP', MLPClassifier()))\n",
    "    basedModels.append(('SGD3000', SGDClassifier(max_iter=1000, tol=1e-4)))\n",
    "    basedModels.append(('XGB_2000', xgb.XGBClassifier(n_estimators= 2000)))\n",
    "    basedModels.append(('XGB_500', xgb.XGBClassifier(n_estimators= 500)))\n",
    "    basedModels.append(('XGB_100', xgb.XGBClassifier(n_estimators= 100)))\n",
    "    basedModels.append(('XGB_1000', xgb.XGBClassifier(n_estimators= 1000)))\n",
    "    basedModels.append(('ET1000'   , ExtraTreesClassifier(n_estimators= 1000)))\n",
    "    \n",
    "    return basedModels\n",
    "\n",
    "# function for performing 10-fold cross validation of all the baseline models\n",
    "def BasedLine2(X_train, y_train,models):\n",
    "    # Test options and evaluation metric\n",
    "    num_folds = 10\n",
    "    scoring = 'accuracy'\n",
    "    seed = 7\n",
    "    results = []\n",
    "    names = []\n",
    "    for name, model in models:\n",
    "        kfold = model_selection.KFold(n_splits=10, random_state=seed)\n",
    "        cv_results = model_selection.cross_val_score(model, X_train, y_train, cv=kfold, scoring=scoring)\n",
    "        results.append(cv_results)\n",
    "        names.append(name)\n",
    "        msg = \"%s: %f (%f)\" % (name, cv_results.mean(), cv_results.std())\n",
    "        print(msg)\n",
    "         \n",
    "        \n",
    "    return results,msg"
   ]
  },
  {
   "cell_type": "code",
   "execution_count": 43,
   "metadata": {},
   "outputs": [
    {
     "ename": "NameError",
     "evalue": "name 'LinearDiscriminantAnalysis' is not defined",
     "output_type": "error",
     "traceback": [
      "\u001b[0;31m---------------------------------------------------------------------------\u001b[0m",
      "\u001b[0;31mNameError\u001b[0m                                 Traceback (most recent call last)",
      "Input \u001b[0;32mIn [43]\u001b[0m, in \u001b[0;36m<cell line: 1>\u001b[0;34m()\u001b[0m\n\u001b[0;32m----> 1\u001b[0m models \u001b[38;5;241m=\u001b[39m \u001b[43mGetBasedModel\u001b[49m\u001b[43m(\u001b[49m\u001b[43m)\u001b[49m\n\u001b[1;32m      2\u001b[0m names,results \u001b[38;5;241m=\u001b[39m BasedLine2(X_train, y_train,models)\n",
      "Input \u001b[0;32mIn [42]\u001b[0m, in \u001b[0;36mGetBasedModel\u001b[0;34m()\u001b[0m\n\u001b[1;32m      6\u001b[0m basedModels \u001b[38;5;241m=\u001b[39m []\n\u001b[1;32m      7\u001b[0m basedModels\u001b[38;5;241m.\u001b[39mappend((\u001b[38;5;124m'\u001b[39m\u001b[38;5;124mLR_L2\u001b[39m\u001b[38;5;124m'\u001b[39m   , LogisticRegression(penalty\u001b[38;5;241m=\u001b[39m\u001b[38;5;124m'\u001b[39m\u001b[38;5;124ml2\u001b[39m\u001b[38;5;124m'\u001b[39m)))\n\u001b[0;32m----> 8\u001b[0m basedModels\u001b[38;5;241m.\u001b[39mappend((\u001b[38;5;124m'\u001b[39m\u001b[38;5;124mLDA\u001b[39m\u001b[38;5;124m'\u001b[39m  , \u001b[43mLinearDiscriminantAnalysis\u001b[49m()))\n\u001b[1;32m      9\u001b[0m basedModels\u001b[38;5;241m.\u001b[39mappend((\u001b[38;5;124m'\u001b[39m\u001b[38;5;124mKNN7\u001b[39m\u001b[38;5;124m'\u001b[39m  , KNeighborsClassifier(\u001b[38;5;241m7\u001b[39m)))\n\u001b[1;32m     10\u001b[0m basedModels\u001b[38;5;241m.\u001b[39mappend((\u001b[38;5;124m'\u001b[39m\u001b[38;5;124mKNN5\u001b[39m\u001b[38;5;124m'\u001b[39m  , KNeighborsClassifier(\u001b[38;5;241m5\u001b[39m)))\n",
      "\u001b[0;31mNameError\u001b[0m: name 'LinearDiscriminantAnalysis' is not defined"
     ]
    }
   ],
   "source": [
    "models = GetBasedModel()\n",
    "names,results = BasedLine2(X_train, y_train,models)"
   ]
  },
  {
   "cell_type": "markdown",
   "metadata": {},
   "source": [
    "## 9. Model building <a id='data-model'></a>"
   ]
  },
  {
   "cell_type": "markdown",
   "metadata": {},
   "source": [
    "### Random Forest Classifier (criterion = 'entropy')"
   ]
  },
  {
   "cell_type": "code",
   "execution_count": null,
   "metadata": {},
   "outputs": [],
   "source": [
    "rf_ent = RandomForestClassifier(criterion='entropy',n_estimators=100)\n",
    "rf_ent.fit(X_train, y_train)\n",
    "y_pred_rfe = rf_ent.predict(X_test)"
   ]
  },
  {
   "cell_type": "markdown",
   "metadata": {},
   "source": [
    "### Multi Layer Perceptron"
   ]
  },
  {
   "cell_type": "code",
   "execution_count": null,
   "metadata": {},
   "outputs": [],
   "source": [
    "mlp = MLPClassifier()\n",
    "mlp.fit(X_train,y_train)\n",
    "y_pred_mlp = mlp.predict(X_test)"
   ]
  },
  {
   "cell_type": "markdown",
   "metadata": {},
   "source": [
    "### K nearest neighbour (n=9)"
   ]
  },
  {
   "cell_type": "code",
   "execution_count": null,
   "metadata": {},
   "outputs": [],
   "source": [
    "knn = KNeighborsClassifier(9)\n",
    "knn.fit(X_train,y_train)\n",
    "y_pred_knn = knn.predict(X_test)"
   ]
  },
  {
   "cell_type": "markdown",
   "metadata": {},
   "source": [
    "### Extra Tree Classifier (n_estimators=500)"
   ]
  },
  {
   "cell_type": "code",
   "execution_count": null,
   "metadata": {},
   "outputs": [],
   "source": [
    "et_100 = ExtraTreesClassifier(n_estimators= 100)\n",
    "et_100.fit(X_train,y_train)\n",
    "y_pred_et_100 = et_100.predict(X_test)"
   ]
  },
  {
   "cell_type": "markdown",
   "metadata": {},
   "source": [
    "### XGBoost (n_estimators=500)"
   ]
  },
  {
   "cell_type": "code",
   "execution_count": null,
   "metadata": {},
   "outputs": [],
   "source": [
    "import xgboost as xgb\n",
    "xgb = xgb.XGBClassifier(n_estimators= 500)\n",
    "xgb.fit(X_train,y_train)\n",
    "y_pred_xgb = xgb.predict(X_test)"
   ]
  },
  {
   "cell_type": "markdown",
   "metadata": {},
   "source": [
    "### Support Vector Classifier (kernel='linear')"
   ]
  },
  {
   "cell_type": "code",
   "execution_count": null,
   "metadata": {},
   "outputs": [],
   "source": [
    "svc = SVC(kernel='linear',gamma='auto',probability=True)\n",
    "svc.fit(X_train,y_train)\n",
    "y_pred_svc = svc.predict(X_test)"
   ]
  },
  {
   "cell_type": "markdown",
   "metadata": {},
   "source": [
    "### Stochastic Gradient Descent"
   ]
  },
  {
   "cell_type": "code",
   "execution_count": null,
   "metadata": {},
   "outputs": [],
   "source": [
    "sgd = SGDClassifier(max_iter=1000, tol=1e-4)\n",
    "sgd.fit(X_train,y_train)\n",
    "y_pred_sgd = sgd.predict(X_test)"
   ]
  },
  {
   "cell_type": "markdown",
   "metadata": {},
   "source": [
    "### Adaboost Classifier"
   ]
  },
  {
   "cell_type": "code",
   "execution_count": null,
   "metadata": {},
   "outputs": [],
   "source": [
    "ada = AdaBoostClassifier()\n",
    "ada.fit(X_train,y_train)\n",
    "y_pred_ada = ada.predict(X_test)"
   ]
  },
  {
   "cell_type": "markdown",
   "metadata": {},
   "source": [
    "### decision Tree Classifier (CART)"
   ]
  },
  {
   "cell_type": "code",
   "execution_count": null,
   "metadata": {},
   "outputs": [],
   "source": [
    "decc = DecisionTreeClassifier()\n",
    "decc.fit(X_train,y_train)\n",
    "y_pred_decc = decc.predict(X_test)"
   ]
  },
  {
   "cell_type": "markdown",
   "metadata": {},
   "source": [
    "### gradient boosting machine "
   ]
  },
  {
   "cell_type": "code",
   "execution_count": null,
   "metadata": {},
   "outputs": [],
   "source": [
    "gbm = GradientBoostingClassifier(n_estimators=100,max_features='sqrt')\n",
    "gbm.fit(X_train,y_train)\n",
    "y_pred_gbm = gbm.predict(X_test)"
   ]
  },
  {
   "cell_type": "markdown",
   "metadata": {},
   "source": [
    "## 10. Model Evaluation  <a id='model-eval'></a>\n",
    "\n",
    " In this step we will first define which evaluation metrics we will use to evaluate our model. The most important evaluation metric for this problem domain is **sensitivity, specificity, Precision, F1-measure, Geometric mean and mathew correlation coefficient and finally ROC AUC curve**\n",
    " "
   ]
  },
  {
   "cell_type": "markdown",
   "metadata": {},
   "source": [
    "\n",
    "### Mathew Correlation coefficient (MCC)\n",
    "\n",
    "The Matthews correlation coefficient (MCC), instead, is a more reliable statistical rate which produces a high score only if the prediction obtained good results in all of the four confusion matrix categories (true positives, false negatives, true negatives, and false positives), proportionally both to the size of positive elements and the size of negative elements in the dataset.\n",
    "\n",
    "![](https://i.ibb.co/mH6MmG4/mcc.jpg)"
   ]
  },
  {
   "cell_type": "markdown",
   "metadata": {},
   "source": [
    "### Log Loss\n",
    "Logarithmic loss  measures the performance of a classification model where the prediction input is a probability value between 0 and 1. The goal of our machine learning models is to minimize this value. A perfect model would have a log loss of 0. Log loss increases as the predicted probability diverges from the actual label. So predicting a probability of .012 when the actual observation label is 1 would be bad and result in a high log loss.\n",
    "\n",
    "The graph below shows the range of possible log loss values given a true observation (isDog = 1). As the predicted probability approaches 1, log loss slowly decreases. As the predicted probability decreases, however, the log loss increases rapidly. Log loss penalizes both types of errors, but especially those predications that are confident and wrong!\n",
    "\n",
    "![](https://i.ibb.co/6BdDczW/log-loss.jpg)"
   ]
  },
  {
   "cell_type": "markdown",
   "metadata": {},
   "source": [
    "### F1 Score\n",
    "\n",
    " F1 Score is the weighted average of Precision and Recall. Therefore, this score takes both false positives and false negatives into account. Intuitively it is not as easy to understand as accuracy, but F1 is usually more useful than accuracy, especially if you have an uneven class distribution. Accuracy works best if false positives and false negatives have similar cost. If the cost of false positives and false negatives are very different, it’s better to look at both Precision and Recall. In our case, F1 score is 0.701.\n",
    "\n",
    "**F1 Score = 2*(Recall * Precision) / (Recall + Precision)**"
   ]
  },
  {
   "cell_type": "code",
   "execution_count": null,
   "metadata": {},
   "outputs": [],
   "source": [
    "CM=confusion_matrix(y_test,y_pred_rfe)\n",
    "sns.heatmap(CM, annot=True)\n",
    "\n",
    "TN = CM[0][0]\n",
    "FN = CM[1][0]\n",
    "TP = CM[1][1]\n",
    "FP = CM[0][1]\n",
    "specificity = TN/(TN+FP)\n",
    "loss_log = log_loss(y_test, y_pred_rfe)\n",
    "acc= accuracy_score(y_test, y_pred_rfe)\n",
    "roc=roc_auc_score(y_test, y_pred_rfe)\n",
    "prec = precision_score(y_test, y_pred_rfe)\n",
    "rec = recall_score(y_test, y_pred_rfe)\n",
    "f1 = f1_score(y_test, y_pred_rfe)\n",
    "\n",
    "mathew = matthews_corrcoef(y_test, y_pred_rfe)\n",
    "model_results =pd.DataFrame([['Random Forest',acc, prec,rec,specificity, f1,roc, loss_log,mathew]],\n",
    "               columns = ['Model', 'Accuracy','Precision', 'Sensitivity','Specificity', 'F1 Score','ROC','Log_Loss','mathew_corrcoef'])\n",
    "\n",
    "model_results"
   ]
  },
  {
   "cell_type": "markdown",
   "metadata": {},
   "source": [
    "## Comparison with other Models"
   ]
  },
  {
   "cell_type": "code",
   "execution_count": null,
   "metadata": {},
   "outputs": [],
   "source": [
    "data = {        'MLP': y_pred_mlp, \n",
    "                'KNN': y_pred_knn, \n",
    "                'EXtra tree classifier': y_pred_et_100,\n",
    "                'XGB': y_pred_xgb, \n",
    "                'SVC': y_pred_svc, \n",
    "                'SGD': y_pred_sgd,\n",
    "                'Adaboost': y_pred_ada, \n",
    "                'CART': y_pred_decc, \n",
    "                'GBM': y_pred_gbm }\n",
    "\n",
    "models = pd.DataFrame(data) \n",
    " \n",
    "for column in models:\n",
    "    CM=confusion_matrix(y_test,models[column])\n",
    "    \n",
    "    TN = CM[0][0]\n",
    "    FN = CM[1][0]\n",
    "    TP = CM[1][1]\n",
    "    FP = CM[0][1]\n",
    "    specificity = TN/(TN+FP)\n",
    "    loss_log = log_loss(y_test, models[column])\n",
    "    acc= accuracy_score(y_test, models[column])\n",
    "    roc=roc_auc_score(y_test, models[column])\n",
    "    prec = precision_score(y_test, models[column])\n",
    "    rec = recall_score(y_test, models[column])\n",
    "    f1 = f1_score(y_test, models[column])\n",
    "    \n",
    "    mathew = matthews_corrcoef(y_test, models[column])\n",
    "    results =pd.DataFrame([[column,acc, prec,rec,specificity, f1,roc, loss_log,mathew]],\n",
    "               columns = ['Model', 'Accuracy','Precision', 'Sensitivity','Specificity', 'F1 Score','ROC','Log_Loss','mathew_corrcoef'])\n",
    "    model_results = model_results.append(results, ignore_index = True)\n",
    "\n",
    "model_results\n"
   ]
  },
  {
   "cell_type": "markdown",
   "metadata": {},
   "source": [
    "### Findings\n",
    "- AS we can see from above results, XGBoost Classifier is best performer as it has highest test accuracy of 0.9191, sensitivity of 0.943 and specificity of 0.89 and highest f1-score of 0.9243 and lowest Log Loss of 2079.\n"
   ]
  },
  {
   "cell_type": "markdown",
   "metadata": {},
   "source": [
    "### ROC AUC Curve"
   ]
  },
  {
   "cell_type": "code",
   "execution_count": null,
   "metadata": {},
   "outputs": [],
   "source": [
    "def roc_auc_plot(y_true, y_proba, label=' ', l='-', lw=1.0):\n",
    "    from sklearn.metrics import roc_curve, roc_auc_score\n",
    "    fpr, tpr, _ = roc_curve(y_true, y_proba[:,1])\n",
    "    ax.plot(fpr, tpr, linestyle=l, linewidth=lw,\n",
    "            label=\"%s (area=%.3f)\"%(label,roc_auc_score(y_true, y_proba[:,1])))\n",
    "\n",
    "f, ax = plt.subplots(figsize=(12,8))\n",
    "\n",
    "\n",
    "roc_auc_plot(y_test,rf_ent.predict_proba(X_test),label='Random Forest Classifier ',l='-')\n",
    "roc_auc_plot(y_test,et_100.predict_proba(X_test),label='Extra Tree Classifier ',l='-')\n",
    "roc_auc_plot(y_test,xgb.predict_proba(X_test),label='XGboost',l='-')\n",
    "\n",
    "ax.plot([0,1], [0,1], color='k', linewidth=0.5, linestyle='--', \n",
    "        )    \n",
    "ax.legend(loc=\"lower right\")    \n",
    "ax.set_xlabel('False Positive Rate')\n",
    "ax.set_ylabel('True Positive Rate')\n",
    "ax.set_xlim([0, 1])\n",
    "ax.set_ylim([0, 1])\n",
    "ax.set_title('Receiver Operator Characteristic curves')\n",
    "sns.despine()"
   ]
  },
  {
   "cell_type": "markdown",
   "metadata": {},
   "source": [
    "As we can see highest average area under the curve (AUC) of 0.950 is attained by Extra Tree Classifier"
   ]
  },
  {
   "cell_type": "markdown",
   "metadata": {},
   "source": [
    "## Precision Recall curve"
   ]
  },
  {
   "cell_type": "code",
   "execution_count": null,
   "metadata": {},
   "outputs": [],
   "source": [
    "def precision_recall_plot(y_true, y_proba, label=' ', l='-', lw=1.0):\n",
    "    from sklearn.metrics import precision_recall_curve, average_precision_score\n",
    "    precision, recall, _ = precision_recall_curve(y_test,\n",
    "                                                  y_proba[:,1])\n",
    "    average_precision = average_precision_score(y_test, y_proba[:,1],\n",
    "                                                     average=\"micro\")\n",
    "    ax.plot(recall, precision, label='%s (average=%.3f)'%(label,average_precision),\n",
    "            linestyle=l, linewidth=lw)\n",
    "\n",
    "f, ax = plt.subplots(figsize=(14,10))\n",
    "\n",
    "precision_recall_plot(y_test,rf_ent.predict_proba(X_test),label='Random Forest Classifier ',l='-')\n",
    "precision_recall_plot(y_test,et_100.predict_proba(X_test),label='Extra Tree Classifier ',l='-')\n",
    "precision_recall_plot(y_test,xgb.predict_proba(X_test),label='XGboost',l='-')\n",
    "ax.set_xlabel('Recall')\n",
    "ax.set_ylabel('Precision')\n",
    "ax.legend(loc=\"lower left\")\n",
    "ax.grid(True)\n",
    "ax.set_xlim([0, 1])\n",
    "ax.set_ylim([0, 1])\n",
    "ax.set_title('Precision-recall curves')\n",
    "sns.despine()"
   ]
  },
  {
   "cell_type": "markdown",
   "metadata": {},
   "source": [
    "### 11.  Feature Selection"
   ]
  },
  {
   "cell_type": "code",
   "execution_count": null,
   "metadata": {},
   "outputs": [],
   "source": [
    "num_feats=11\n",
    "\n",
    "def cor_selector(X, y,num_feats):\n",
    "    cor_list = []\n",
    "    feature_name = X.columns.tolist()\n",
    "    # calculate the correlation with y for each feature\n",
    "    for i in X.columns.tolist():\n",
    "        cor = np.corrcoef(X[i], y)[0, 1]\n",
    "        cor_list.append(cor)\n",
    "    # replace NaN with 0\n",
    "    cor_list = [0 if np.isnan(i) else i for i in cor_list]\n",
    "    # feature name\n",
    "    cor_feature = X.iloc[:,np.argsort(np.abs(cor_list))[-num_feats:]].columns.tolist()\n",
    "    # feature selection? 0 for not select, 1 for select\n",
    "    cor_support = [True if i in cor_feature else False for i in feature_name]\n",
    "    return cor_support, cor_feature\n",
    "cor_support, cor_feature = cor_selector(X, y,num_feats)\n",
    "print(str(len(cor_feature)), 'selected features')"
   ]
  },
  {
   "cell_type": "code",
   "execution_count": null,
   "metadata": {},
   "outputs": [],
   "source": [
    "from sklearn.feature_selection import SelectKBest\n",
    "from sklearn.feature_selection import chi2\n",
    "from sklearn.preprocessing import MinMaxScaler\n",
    "X_norm = MinMaxScaler().fit_transform(X)\n",
    "chi_selector = SelectKBest(chi2, k=num_feats)\n",
    "chi_selector.fit(X_norm, y)\n",
    "chi_support = chi_selector.get_support()\n",
    "chi_feature = X.loc[:,chi_support].columns.tolist()\n",
    "print(str(len(chi_feature)), 'selected features')"
   ]
  },
  {
   "cell_type": "code",
   "execution_count": null,
   "metadata": {},
   "outputs": [],
   "source": [
    "from sklearn.feature_selection import RFE\n",
    "from sklearn.linear_model import LogisticRegression\n",
    "rfe_selector = RFE(estimator=LogisticRegression(), n_features_to_select=num_feats, step=10, verbose=5)\n",
    "rfe_selector.fit(X_norm, y)\n",
    "rfe_support = rfe_selector.get_support()\n",
    "rfe_feature = X.loc[:,rfe_support].columns.tolist()\n",
    "print(str(len(rfe_feature)), 'selected features')"
   ]
  },
  {
   "cell_type": "code",
   "execution_count": null,
   "metadata": {},
   "outputs": [],
   "source": [
    "from sklearn.feature_selection import SelectFromModel\n",
    "from sklearn.linear_model import LogisticRegression\n",
    "\n",
    "embeded_lr_selector = SelectFromModel(LogisticRegression(penalty=\"l2\", solver='lbfgs'), max_features=num_feats)\n",
    "embeded_lr_selector.fit(X_norm, y)\n",
    "\n",
    "embeded_lr_support = embeded_lr_selector.get_support()\n",
    "embeded_lr_feature = X.loc[:,embeded_lr_support].columns.tolist()\n",
    "print(str(len(embeded_lr_feature)), 'selected features')"
   ]
  },
  {
   "cell_type": "code",
   "execution_count": null,
   "metadata": {},
   "outputs": [],
   "source": [
    "from sklearn.feature_selection import SelectFromModel\n",
    "from sklearn.ensemble import RandomForestClassifier\n",
    "\n",
    "embeded_rf_selector = SelectFromModel(RandomForestClassifier(n_estimators=100, criterion='gini'), max_features=num_feats)\n",
    "embeded_rf_selector.fit(X, y)\n",
    "\n",
    "embeded_rf_support = embeded_rf_selector.get_support()\n",
    "embeded_rf_feature = X.loc[:,embeded_rf_support].columns.tolist()\n",
    "print(str(len(embeded_rf_feature)), 'selected features')"
   ]
  },
  {
   "cell_type": "code",
   "execution_count": null,
   "metadata": {},
   "outputs": [],
   "source": [
    "from sklearn.feature_selection import SelectFromModel\n",
    "from lightgbm import LGBMClassifier\n",
    "\n",
    "lgbc=LGBMClassifier(n_estimators=500, learning_rate=0.05, num_leaves=32, colsample_bytree=0.2,\n",
    "            reg_alpha=3, reg_lambda=1, min_split_gain=0.01, min_child_weight=40)\n",
    "\n",
    "embeded_lgb_selector = SelectFromModel(lgbc, max_features=num_feats)\n",
    "embeded_lgb_selector.fit(X, y)\n",
    "\n",
    "embeded_lgb_support = embeded_lgb_selector.get_support()\n",
    "embeded_lgb_feature = X.loc[:,embeded_lgb_support].columns.tolist()\n",
    "print(str(len(embeded_lgb_feature)), 'selected features')"
   ]
  },
  {
   "cell_type": "code",
   "execution_count": null,
   "metadata": {},
   "outputs": [],
   "source": [
    "# put all selection together\n",
    "feature_name = X.columns\n",
    "feature_selection_df = pd.DataFrame({'Feature':feature_name, 'Pearson':cor_support, 'Chi-2':chi_support, 'RFE':rfe_support, 'Logistics':embeded_lr_support,\n",
    "                                    'Random Forest':embeded_rf_support, 'LightGBM':embeded_lgb_support})\n",
    "# count the selected times for each feature\n",
    "feature_selection_df['Total'] = np.sum(feature_selection_df, axis=1)\n",
    "# display the top 100\n",
    "feature_selection_df = feature_selection_df.sort_values(['Total','Feature'] , ascending=False)\n",
    "feature_selection_df.index = range(1, len(feature_selection_df)+1)\n",
    "feature_selection_df.head(num_feats)"
   ]
  },
  {
   "cell_type": "code",
   "execution_count": null,
   "metadata": {},
   "outputs": [],
   "source": [
    "# segregating dataset into features i.e., X and target variables i.e., y\n",
    "X = dt.drop(['target','resting_blood_pressure','sex_male','chest_pain_type_non-anginal pain','chest_pain_type_atypical angina'],axis=1)\n",
    "y = dt['target']"
   ]
  },
  {
   "cell_type": "code",
   "execution_count": null,
   "metadata": {},
   "outputs": [],
   "source": [
    "X_train, X_test, y_train, y_test = train_test_split(X, y, stratify=y, test_size=0.2,shuffle=True, random_state=5)"
   ]
  },
  {
   "cell_type": "code",
   "execution_count": null,
   "metadata": {},
   "outputs": [],
   "source": [
    "from sklearn.preprocessing import MinMaxScaler\n",
    "scaler = MinMaxScaler()\n",
    "X_train[['age','cholesterol','max_heart_rate_achieved','st_depression']] = scaler.fit_transform(X_train[['age','cholesterol','max_heart_rate_achieved','st_depression']])\n",
    "X_train.head()"
   ]
  },
  {
   "cell_type": "code",
   "execution_count": null,
   "metadata": {},
   "outputs": [],
   "source": [
    "X_test[['age','cholesterol','max_heart_rate_achieved','st_depression']] = scaler.transform(X_test[['age','cholesterol','max_heart_rate_achieved','st_depression']])\n",
    "X_test.head()"
   ]
  },
  {
   "cell_type": "code",
   "execution_count": null,
   "metadata": {},
   "outputs": [],
   "source": [
    "import xgboost as xgb\n",
    "models = GetBasedModel()\n",
    "names,results = BasedLine2(X_train, y_train,models)"
   ]
  },
  {
   "cell_type": "markdown",
   "metadata": {},
   "source": [
    "## Soft voting"
   ]
  },
  {
   "cell_type": "code",
   "execution_count": null,
   "metadata": {},
   "outputs": [],
   "source": [
    "import xgboost as xgb\n",
    "clf1=RandomForestClassifier(criterion='entropy',n_estimators=100)\n",
    "\n",
    "clf2=DecisionTreeClassifier()\n",
    "clf3=xgb.XGBClassifier(n_estimators= 1000)\n",
    "clf4=ExtraTreesClassifier(n_estimators= 500)\n",
    "\n",
    "clf5=GradientBoostingClassifier(n_estimators=100,max_features='sqrt')\n",
    "\n",
    "\n",
    "eclf1 = VotingClassifier(estimators=[('rfe', clf1), ('decc', clf2), ('xgb', clf3),('ET',clf4),('gb',clf5),], \n",
    "                         voting='soft', weights=[4,1,2,3,1])\n",
    "eclf1.fit(X_train,y_train)\n",
    "y_pred_sv =eclf1.predict(X_test)"
   ]
  },
  {
   "cell_type": "markdown",
   "metadata": {},
   "source": [
    "## 12 Model Evaluation"
   ]
  },
  {
   "cell_type": "code",
   "execution_count": null,
   "metadata": {},
   "outputs": [],
   "source": [
    "CM=confusion_matrix(y_test,y_pred_sv)\n",
    "sns.heatmap(CM, annot=True)\n",
    "\n",
    "TN = CM[0][0]\n",
    "FN = CM[1][0]\n",
    "TP = CM[1][1]\n",
    "FP = CM[0][1]\n",
    "specificity = TN/(TN+FP)\n",
    "loss_log = log_loss(y_test, y_pred_sv)\n",
    "acc= accuracy_score(y_test, y_pred_sv)\n",
    "roc=roc_auc_score(y_test, y_pred_sv)\n",
    "prec = precision_score(y_test, y_pred_sv)\n",
    "rec = recall_score(y_test, y_pred_sv)\n",
    "f1 = f1_score(y_test, y_pred_sv)\n",
    "\n",
    "mathew = matthews_corrcoef(y_test, y_pred_sv)\n",
    "model_results =pd.DataFrame([['Soft Voting',acc, prec,rec,specificity, f1,roc, loss_log,mathew]],\n",
    "               columns = ['Model', 'Accuracy','Precision', 'Sensitivity','Specificity', 'F1 Score','ROC','Log_Loss','mathew_corrcoef'])\n",
    "\n",
    "model_results"
   ]
  },
  {
   "cell_type": "code",
   "execution_count": null,
   "metadata": {},
   "outputs": [],
   "source": [
    "rf_ent = RandomForestClassifier(criterion='entropy',n_estimators=100)\n",
    "rf_ent.fit(X_train, y_train)\n",
    "y_pred_rfe = rf_ent.predict(X_test)"
   ]
  },
  {
   "cell_type": "code",
   "execution_count": null,
   "metadata": {},
   "outputs": [],
   "source": [
    "mlp = MLPClassifier()\n",
    "mlp.fit(X_train,y_train)\n",
    "y_pred_mlp = mlp.predict(X_test)"
   ]
  },
  {
   "cell_type": "code",
   "execution_count": null,
   "metadata": {},
   "outputs": [],
   "source": [
    "knn = KNeighborsClassifier(9)\n",
    "knn.fit(X_train,y_train)\n",
    "y_pred_knn = knn.predict(X_test)"
   ]
  },
  {
   "cell_type": "code",
   "execution_count": null,
   "metadata": {},
   "outputs": [],
   "source": [
    "et_1000 = ExtraTreesClassifier(n_estimators= 1000)\n",
    "et_1000.fit(X_train,y_train)\n",
    "y_pred_et1000 = et_1000.predict(X_test)"
   ]
  },
  {
   "cell_type": "code",
   "execution_count": null,
   "metadata": {},
   "outputs": [],
   "source": [
    "xgb = xgb.XGBClassifier(n_estimators= 1000)\n",
    "xgb.fit(X_train,y_train)\n",
    "y_pred_xgb = xgb.predict(X_test)"
   ]
  },
  {
   "cell_type": "code",
   "execution_count": null,
   "metadata": {},
   "outputs": [],
   "source": [
    "svc = SVC(kernel='linear',gamma='auto',probability=True)\n",
    "svc.fit(X_train,y_train)\n",
    "y_pred_svc = svc.predict(X_test)"
   ]
  },
  {
   "cell_type": "code",
   "execution_count": null,
   "metadata": {},
   "outputs": [],
   "source": [
    "sgd = SGDClassifier(max_iter=1000, tol=1e-4)\n",
    "sgd.fit(X_train,y_train)\n",
    "y_pred_sgd = sgd.predict(X_test)"
   ]
  },
  {
   "cell_type": "code",
   "execution_count": null,
   "metadata": {},
   "outputs": [],
   "source": [
    "ada = AdaBoostClassifier()\n",
    "ada.fit(X_train,y_train)\n",
    "y_pred_ada = ada.predict(X_test)"
   ]
  },
  {
   "cell_type": "code",
   "execution_count": null,
   "metadata": {},
   "outputs": [],
   "source": [
    "decc = DecisionTreeClassifier()\n",
    "decc.fit(X_train,y_train)\n",
    "y_pred_decc = decc.predict(X_test)"
   ]
  },
  {
   "cell_type": "code",
   "execution_count": null,
   "metadata": {},
   "outputs": [],
   "source": [
    "gbm = GradientBoostingClassifier(n_estimators=100,max_features='sqrt')\n",
    "gbm.fit(X_train,y_train)\n",
    "y_pred_gbm = gbm.predict(X_test)"
   ]
  },
  {
   "cell_type": "code",
   "execution_count": null,
   "metadata": {},
   "outputs": [],
   "source": [
    "data = {\n",
    "             'Random Forest Entropy': y_pred_rfe, \n",
    "                'MLP2': y_pred_mlp, \n",
    "                'KNN2': y_pred_knn, \n",
    "                'EXtra tree classifier': y_pred_et1000,\n",
    "                'XGB2': y_pred_xgb, \n",
    "                'SVC2': y_pred_svc, \n",
    "                'SGD2': y_pred_sgd,\n",
    "                'Adaboost': y_pred_ada, \n",
    "                'CART': y_pred_decc, \n",
    "                'GBM': y_pred_gbm }\n",
    "\n",
    "models = pd.DataFrame(data) \n",
    " \n",
    "for column in models:\n",
    "    CM=confusion_matrix(y_test,models[column])\n",
    "    \n",
    "    TN = CM[0][0]\n",
    "    FN = CM[1][0]\n",
    "    TP = CM[1][1]\n",
    "    FP = CM[0][1]\n",
    "    specificity = TN/(TN+FP)\n",
    "    loss_log = log_loss(y_test, models[column])\n",
    "    acc= accuracy_score(y_test, models[column])\n",
    "    roc=roc_auc_score(y_test, models[column])\n",
    "    prec = precision_score(y_test, models[column])\n",
    "    rec = recall_score(y_test, models[column])\n",
    "    f1 = f1_score(y_test, models[column])\n",
    "    \n",
    "    mathew = matthews_corrcoef(y_test, models[column])\n",
    "    results =pd.DataFrame([[column,acc, prec,rec,specificity, f1,roc, loss_log,mathew]],\n",
    "               columns = ['Model', 'Accuracy','Precision', 'Sensitivity','Specificity', 'F1 Score','ROC','Log_Loss','mathew_corrcoef'])\n",
    "    model_results = model_results.append(results, ignore_index = True)\n",
    "\n",
    "model_results"
   ]
  },
  {
   "cell_type": "code",
   "execution_count": null,
   "metadata": {},
   "outputs": [],
   "source": [
    "def roc_auc_plot(y_true, y_proba, label=' ', l='-', lw=1.0):\n",
    "    from sklearn.metrics import roc_curve, roc_auc_score\n",
    "    fpr, tpr, _ = roc_curve(y_true, y_proba[:,1])\n",
    "    ax.plot(fpr, tpr, linestyle=l, linewidth=lw,\n",
    "            label=\"%s (area=%.3f)\"%(label,roc_auc_score(y_true, y_proba[:,1])))\n",
    "\n",
    "f, ax = plt.subplots(figsize=(12,8))\n",
    "\n",
    "roc_auc_plot(y_test,eclf1.predict_proba(X_test),label='Soft Voting Classifier ',l='-')\n",
    "roc_auc_plot(y_test,rf_ent.predict_proba(X_test),label='Random Forest Classifier ',l='-')\n",
    "roc_auc_plot(y_test,et_1000.predict_proba(X_test),label='Extra Tree Classifier ',l='-')\n",
    "roc_auc_plot(y_test,xgb.predict_proba(X_test),label='XGboost',l='-')\n",
    "\n",
    "ax.plot([0,1], [0,1], color='k', linewidth=0.5, linestyle='--', \n",
    "        )    \n",
    "ax.legend(loc=\"lower right\")    \n",
    "ax.set_xlabel('False Positive Rate')\n",
    "ax.set_ylabel('True Positive Rate')\n",
    "ax.set_xlim([0, 1])\n",
    "ax.set_ylim([0, 1])\n",
    "ax.set_title('Receiver Operator Characteristic curves')\n",
    "sns.despine()"
   ]
  },
  {
   "cell_type": "code",
   "execution_count": null,
   "metadata": {},
   "outputs": [],
   "source": [
    "def precision_recall_plot(y_true, y_proba, label=' ', l='-', lw=1.0):\n",
    "    from sklearn.metrics import precision_recall_curve, average_precision_score\n",
    "    precision, recall, _ = precision_recall_curve(y_test,\n",
    "                                                  y_proba[:,1])\n",
    "    average_precision = average_precision_score(y_test, y_proba[:,1],\n",
    "                                                     average=\"micro\")\n",
    "    ax.plot(recall, precision, label='%s (average=%.3f)'%(label,average_precision),\n",
    "            linestyle=l, linewidth=lw)\n",
    "\n",
    "f, ax = plt.subplots(figsize=(14,10))\n",
    "precision_recall_plot(y_test,eclf1.predict_proba(X_test),label='Soft voting classifier ',l='-')\n",
    "precision_recall_plot(y_test,rf_ent.predict_proba(X_test),label='Random Forest Classifier ',l='-')\n",
    "precision_recall_plot(y_test,et_1000.predict_proba(X_test),label='Extra Tree Classifier ',l='-')\n",
    "precision_recall_plot(y_test,xgb.predict_proba(X_test),label='XGboost',l='-')\n",
    "ax.set_xlabel('Recall')\n",
    "ax.set_ylabel('Precision')\n",
    "ax.legend(loc=\"lower left\")\n",
    "ax.grid(True)\n",
    "ax.set_xlim([0, 1])\n",
    "ax.set_ylim([0, 1])\n",
    "ax.set_title('Precision-recall curves')\n",
    "sns.despine()"
   ]
  },
  {
   "cell_type": "markdown",
   "metadata": {},
   "source": [
    "## Feature Importance"
   ]
  },
  {
   "cell_type": "code",
   "execution_count": null,
   "metadata": {},
   "outputs": [],
   "source": [
    "feat_importances = pd.Series(rf_ent.feature_importances_, index=X_train.columns)\n",
    "feat_importances.nlargest(20).plot(kind='barh')"
   ]
  },
  {
   "cell_type": "markdown",
   "metadata": {},
   "source": [
    "## 13. Conclusion  <a id='data-conc'></a>\n",
    "\n",
    "- As we have seen, stacked ensemble of power machine learning algorithms resulted in higher performance than any individual machine learning model.\n",
    "- We have also interpreted second best performing algo i.e., random forest algorithm\n",
    "- The top 5 most contribution features are:\n",
    "1. **Max heart Rate achieved**<br>\n",
    "2. **Cholestrol**<br>\n",
    "3. **st_depression**<br>\n",
    "4. **Age**<br>\n",
    "5. **exercise_induced_angina**<br>\n"
   ]
  },
  {
   "cell_type": "code",
   "execution_count": null,
   "metadata": {},
   "outputs": [],
   "source": []
  },
  {
   "cell_type": "code",
   "execution_count": null,
   "metadata": {},
   "outputs": [],
   "source": []
  }
 ],
 "metadata": {
  "kernelspec": {
   "display_name": "Python 3 (ipykernel)",
   "language": "python",
   "name": "python3"
  },
  "language_info": {
   "codemirror_mode": {
    "name": "ipython",
    "version": 3
   },
   "file_extension": ".py",
   "mimetype": "text/x-python",
   "name": "python",
   "nbconvert_exporter": "python",
   "pygments_lexer": "ipython3",
   "version": "3.9.12"
  }
 },
 "nbformat": 4,
 "nbformat_minor": 4
}
